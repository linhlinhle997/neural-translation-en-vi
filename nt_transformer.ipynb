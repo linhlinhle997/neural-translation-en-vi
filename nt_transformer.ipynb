{
  "metadata": {
    "kernelspec": {
      "name": "python3",
      "display_name": "Python 3",
      "language": "python"
    },
    "language_info": {
      "name": "python",
      "version": "3.10.12",
      "mimetype": "text/x-python",
      "codemirror_mode": {
        "name": "ipython",
        "version": 3
      },
      "pygments_lexer": "ipython3",
      "nbconvert_exporter": "python",
      "file_extension": ".py"
    },
    "accelerator": "GPU",
    "colab": {
      "gpuType": "T4",
      "provenance": [],
      "include_colab_link": true
    },
    "widgets": {
      "application/vnd.jupyter.widget-state+json": {
        "5e8639b5298146d9b81dd6da05aed7e0": {
          "model_module": "@jupyter-widgets/controls",
          "model_name": "HBoxModel",
          "model_module_version": "1.5.0",
          "state": {
            "_dom_classes": [],
            "_model_module": "@jupyter-widgets/controls",
            "_model_module_version": "1.5.0",
            "_model_name": "HBoxModel",
            "_view_count": null,
            "_view_module": "@jupyter-widgets/controls",
            "_view_module_version": "1.5.0",
            "_view_name": "HBoxView",
            "box_style": "",
            "children": [
              "IPY_MODEL_54434135c2724921bcc5b381770c8f02",
              "IPY_MODEL_174b9f3806be43979934d637759ca708",
              "IPY_MODEL_95eed537207845269627d85b1db58e0d"
            ],
            "layout": "IPY_MODEL_efd9fa240b9744ee84c65a5631206caa"
          }
        },
        "54434135c2724921bcc5b381770c8f02": {
          "model_module": "@jupyter-widgets/controls",
          "model_name": "HTMLModel",
          "model_module_version": "1.5.0",
          "state": {
            "_dom_classes": [],
            "_model_module": "@jupyter-widgets/controls",
            "_model_module_version": "1.5.0",
            "_model_name": "HTMLModel",
            "_view_count": null,
            "_view_module": "@jupyter-widgets/controls",
            "_view_module_version": "1.5.0",
            "_view_name": "HTMLView",
            "description": "",
            "description_tooltip": null,
            "layout": "IPY_MODEL_3bcf8cfd0c1d448d848ee755980c57d1",
            "placeholder": "​",
            "style": "IPY_MODEL_35d6946e6b3446afb523caeac3768a89",
            "value": "README.md: 100%"
          }
        },
        "174b9f3806be43979934d637759ca708": {
          "model_module": "@jupyter-widgets/controls",
          "model_name": "FloatProgressModel",
          "model_module_version": "1.5.0",
          "state": {
            "_dom_classes": [],
            "_model_module": "@jupyter-widgets/controls",
            "_model_module_version": "1.5.0",
            "_model_name": "FloatProgressModel",
            "_view_count": null,
            "_view_module": "@jupyter-widgets/controls",
            "_view_module_version": "1.5.0",
            "_view_name": "ProgressView",
            "bar_style": "success",
            "description": "",
            "description_tooltip": null,
            "layout": "IPY_MODEL_00806abc4f154993b2b73ce9531e5459",
            "max": 522,
            "min": 0,
            "orientation": "horizontal",
            "style": "IPY_MODEL_efac7f708d224fd58e7f2f42b7b1fe16",
            "value": 522
          }
        },
        "95eed537207845269627d85b1db58e0d": {
          "model_module": "@jupyter-widgets/controls",
          "model_name": "HTMLModel",
          "model_module_version": "1.5.0",
          "state": {
            "_dom_classes": [],
            "_model_module": "@jupyter-widgets/controls",
            "_model_module_version": "1.5.0",
            "_model_name": "HTMLModel",
            "_view_count": null,
            "_view_module": "@jupyter-widgets/controls",
            "_view_module_version": "1.5.0",
            "_view_name": "HTMLView",
            "description": "",
            "description_tooltip": null,
            "layout": "IPY_MODEL_cfbcc1eb45b1466e9f963f1479335f90",
            "placeholder": "​",
            "style": "IPY_MODEL_7e91702c07f84a0e9752a7895b02f10e",
            "value": " 522/522 [00:00&lt;00:00, 41.9kB/s]"
          }
        },
        "efd9fa240b9744ee84c65a5631206caa": {
          "model_module": "@jupyter-widgets/base",
          "model_name": "LayoutModel",
          "model_module_version": "1.2.0",
          "state": {
            "_model_module": "@jupyter-widgets/base",
            "_model_module_version": "1.2.0",
            "_model_name": "LayoutModel",
            "_view_count": null,
            "_view_module": "@jupyter-widgets/base",
            "_view_module_version": "1.2.0",
            "_view_name": "LayoutView",
            "align_content": null,
            "align_items": null,
            "align_self": null,
            "border": null,
            "bottom": null,
            "display": null,
            "flex": null,
            "flex_flow": null,
            "grid_area": null,
            "grid_auto_columns": null,
            "grid_auto_flow": null,
            "grid_auto_rows": null,
            "grid_column": null,
            "grid_gap": null,
            "grid_row": null,
            "grid_template_areas": null,
            "grid_template_columns": null,
            "grid_template_rows": null,
            "height": null,
            "justify_content": null,
            "justify_items": null,
            "left": null,
            "margin": null,
            "max_height": null,
            "max_width": null,
            "min_height": null,
            "min_width": null,
            "object_fit": null,
            "object_position": null,
            "order": null,
            "overflow": null,
            "overflow_x": null,
            "overflow_y": null,
            "padding": null,
            "right": null,
            "top": null,
            "visibility": null,
            "width": null
          }
        },
        "3bcf8cfd0c1d448d848ee755980c57d1": {
          "model_module": "@jupyter-widgets/base",
          "model_name": "LayoutModel",
          "model_module_version": "1.2.0",
          "state": {
            "_model_module": "@jupyter-widgets/base",
            "_model_module_version": "1.2.0",
            "_model_name": "LayoutModel",
            "_view_count": null,
            "_view_module": "@jupyter-widgets/base",
            "_view_module_version": "1.2.0",
            "_view_name": "LayoutView",
            "align_content": null,
            "align_items": null,
            "align_self": null,
            "border": null,
            "bottom": null,
            "display": null,
            "flex": null,
            "flex_flow": null,
            "grid_area": null,
            "grid_auto_columns": null,
            "grid_auto_flow": null,
            "grid_auto_rows": null,
            "grid_column": null,
            "grid_gap": null,
            "grid_row": null,
            "grid_template_areas": null,
            "grid_template_columns": null,
            "grid_template_rows": null,
            "height": null,
            "justify_content": null,
            "justify_items": null,
            "left": null,
            "margin": null,
            "max_height": null,
            "max_width": null,
            "min_height": null,
            "min_width": null,
            "object_fit": null,
            "object_position": null,
            "order": null,
            "overflow": null,
            "overflow_x": null,
            "overflow_y": null,
            "padding": null,
            "right": null,
            "top": null,
            "visibility": null,
            "width": null
          }
        },
        "35d6946e6b3446afb523caeac3768a89": {
          "model_module": "@jupyter-widgets/controls",
          "model_name": "DescriptionStyleModel",
          "model_module_version": "1.5.0",
          "state": {
            "_model_module": "@jupyter-widgets/controls",
            "_model_module_version": "1.5.0",
            "_model_name": "DescriptionStyleModel",
            "_view_count": null,
            "_view_module": "@jupyter-widgets/base",
            "_view_module_version": "1.2.0",
            "_view_name": "StyleView",
            "description_width": ""
          }
        },
        "00806abc4f154993b2b73ce9531e5459": {
          "model_module": "@jupyter-widgets/base",
          "model_name": "LayoutModel",
          "model_module_version": "1.2.0",
          "state": {
            "_model_module": "@jupyter-widgets/base",
            "_model_module_version": "1.2.0",
            "_model_name": "LayoutModel",
            "_view_count": null,
            "_view_module": "@jupyter-widgets/base",
            "_view_module_version": "1.2.0",
            "_view_name": "LayoutView",
            "align_content": null,
            "align_items": null,
            "align_self": null,
            "border": null,
            "bottom": null,
            "display": null,
            "flex": null,
            "flex_flow": null,
            "grid_area": null,
            "grid_auto_columns": null,
            "grid_auto_flow": null,
            "grid_auto_rows": null,
            "grid_column": null,
            "grid_gap": null,
            "grid_row": null,
            "grid_template_areas": null,
            "grid_template_columns": null,
            "grid_template_rows": null,
            "height": null,
            "justify_content": null,
            "justify_items": null,
            "left": null,
            "margin": null,
            "max_height": null,
            "max_width": null,
            "min_height": null,
            "min_width": null,
            "object_fit": null,
            "object_position": null,
            "order": null,
            "overflow": null,
            "overflow_x": null,
            "overflow_y": null,
            "padding": null,
            "right": null,
            "top": null,
            "visibility": null,
            "width": null
          }
        },
        "efac7f708d224fd58e7f2f42b7b1fe16": {
          "model_module": "@jupyter-widgets/controls",
          "model_name": "ProgressStyleModel",
          "model_module_version": "1.5.0",
          "state": {
            "_model_module": "@jupyter-widgets/controls",
            "_model_module_version": "1.5.0",
            "_model_name": "ProgressStyleModel",
            "_view_count": null,
            "_view_module": "@jupyter-widgets/base",
            "_view_module_version": "1.2.0",
            "_view_name": "StyleView",
            "bar_color": null,
            "description_width": ""
          }
        },
        "cfbcc1eb45b1466e9f963f1479335f90": {
          "model_module": "@jupyter-widgets/base",
          "model_name": "LayoutModel",
          "model_module_version": "1.2.0",
          "state": {
            "_model_module": "@jupyter-widgets/base",
            "_model_module_version": "1.2.0",
            "_model_name": "LayoutModel",
            "_view_count": null,
            "_view_module": "@jupyter-widgets/base",
            "_view_module_version": "1.2.0",
            "_view_name": "LayoutView",
            "align_content": null,
            "align_items": null,
            "align_self": null,
            "border": null,
            "bottom": null,
            "display": null,
            "flex": null,
            "flex_flow": null,
            "grid_area": null,
            "grid_auto_columns": null,
            "grid_auto_flow": null,
            "grid_auto_rows": null,
            "grid_column": null,
            "grid_gap": null,
            "grid_row": null,
            "grid_template_areas": null,
            "grid_template_columns": null,
            "grid_template_rows": null,
            "height": null,
            "justify_content": null,
            "justify_items": null,
            "left": null,
            "margin": null,
            "max_height": null,
            "max_width": null,
            "min_height": null,
            "min_width": null,
            "object_fit": null,
            "object_position": null,
            "order": null,
            "overflow": null,
            "overflow_x": null,
            "overflow_y": null,
            "padding": null,
            "right": null,
            "top": null,
            "visibility": null,
            "width": null
          }
        },
        "7e91702c07f84a0e9752a7895b02f10e": {
          "model_module": "@jupyter-widgets/controls",
          "model_name": "DescriptionStyleModel",
          "model_module_version": "1.5.0",
          "state": {
            "_model_module": "@jupyter-widgets/controls",
            "_model_module_version": "1.5.0",
            "_model_name": "DescriptionStyleModel",
            "_view_count": null,
            "_view_module": "@jupyter-widgets/base",
            "_view_module_version": "1.2.0",
            "_view_name": "StyleView",
            "description_width": ""
          }
        },
        "738a330926c04305b4d6e0943009d48d": {
          "model_module": "@jupyter-widgets/controls",
          "model_name": "HBoxModel",
          "model_module_version": "1.5.0",
          "state": {
            "_dom_classes": [],
            "_model_module": "@jupyter-widgets/controls",
            "_model_module_version": "1.5.0",
            "_model_name": "HBoxModel",
            "_view_count": null,
            "_view_module": "@jupyter-widgets/controls",
            "_view_module_version": "1.5.0",
            "_view_name": "HBoxView",
            "box_style": "",
            "children": [
              "IPY_MODEL_4379abc482ad4c099bf316cc21b85378",
              "IPY_MODEL_91c2051afc1d42d187b337907cb4a8e6",
              "IPY_MODEL_1dff3de2b1184c588289350db7b3d559"
            ],
            "layout": "IPY_MODEL_d13b951dcb1846bda43a0f35c40a8248"
          }
        },
        "4379abc482ad4c099bf316cc21b85378": {
          "model_module": "@jupyter-widgets/controls",
          "model_name": "HTMLModel",
          "model_module_version": "1.5.0",
          "state": {
            "_dom_classes": [],
            "_model_module": "@jupyter-widgets/controls",
            "_model_module_version": "1.5.0",
            "_model_name": "HTMLModel",
            "_view_count": null,
            "_view_module": "@jupyter-widgets/controls",
            "_view_module_version": "1.5.0",
            "_view_name": "HTMLView",
            "description": "",
            "description_tooltip": null,
            "layout": "IPY_MODEL_b4ffefa093c0435d96cbab95a10facc1",
            "placeholder": "​",
            "style": "IPY_MODEL_2b657b5a0467436ba59d3d4975dc5fee",
            "value": "train-00000-of-00001.parquet: 100%"
          }
        },
        "91c2051afc1d42d187b337907cb4a8e6": {
          "model_module": "@jupyter-widgets/controls",
          "model_name": "FloatProgressModel",
          "model_module_version": "1.5.0",
          "state": {
            "_dom_classes": [],
            "_model_module": "@jupyter-widgets/controls",
            "_model_module_version": "1.5.0",
            "_model_name": "FloatProgressModel",
            "_view_count": null,
            "_view_module": "@jupyter-widgets/controls",
            "_view_module_version": "1.5.0",
            "_view_name": "ProgressView",
            "bar_style": "success",
            "description": "",
            "description_tooltip": null,
            "layout": "IPY_MODEL_7dd1a3101d5140ba843e0cd1ff0df248",
            "max": 17771372,
            "min": 0,
            "orientation": "horizontal",
            "style": "IPY_MODEL_eae832445113473588e669ebd1649395",
            "value": 17771372
          }
        },
        "1dff3de2b1184c588289350db7b3d559": {
          "model_module": "@jupyter-widgets/controls",
          "model_name": "HTMLModel",
          "model_module_version": "1.5.0",
          "state": {
            "_dom_classes": [],
            "_model_module": "@jupyter-widgets/controls",
            "_model_module_version": "1.5.0",
            "_model_name": "HTMLModel",
            "_view_count": null,
            "_view_module": "@jupyter-widgets/controls",
            "_view_module_version": "1.5.0",
            "_view_name": "HTMLView",
            "description": "",
            "description_tooltip": null,
            "layout": "IPY_MODEL_b0dcc1ecf31640efa4635865289cf395",
            "placeholder": "​",
            "style": "IPY_MODEL_2b1b5ee09eb74688951656f717113173",
            "value": " 17.8M/17.8M [00:00&lt;00:00, 42.2MB/s]"
          }
        },
        "d13b951dcb1846bda43a0f35c40a8248": {
          "model_module": "@jupyter-widgets/base",
          "model_name": "LayoutModel",
          "model_module_version": "1.2.0",
          "state": {
            "_model_module": "@jupyter-widgets/base",
            "_model_module_version": "1.2.0",
            "_model_name": "LayoutModel",
            "_view_count": null,
            "_view_module": "@jupyter-widgets/base",
            "_view_module_version": "1.2.0",
            "_view_name": "LayoutView",
            "align_content": null,
            "align_items": null,
            "align_self": null,
            "border": null,
            "bottom": null,
            "display": null,
            "flex": null,
            "flex_flow": null,
            "grid_area": null,
            "grid_auto_columns": null,
            "grid_auto_flow": null,
            "grid_auto_rows": null,
            "grid_column": null,
            "grid_gap": null,
            "grid_row": null,
            "grid_template_areas": null,
            "grid_template_columns": null,
            "grid_template_rows": null,
            "height": null,
            "justify_content": null,
            "justify_items": null,
            "left": null,
            "margin": null,
            "max_height": null,
            "max_width": null,
            "min_height": null,
            "min_width": null,
            "object_fit": null,
            "object_position": null,
            "order": null,
            "overflow": null,
            "overflow_x": null,
            "overflow_y": null,
            "padding": null,
            "right": null,
            "top": null,
            "visibility": null,
            "width": null
          }
        },
        "b4ffefa093c0435d96cbab95a10facc1": {
          "model_module": "@jupyter-widgets/base",
          "model_name": "LayoutModel",
          "model_module_version": "1.2.0",
          "state": {
            "_model_module": "@jupyter-widgets/base",
            "_model_module_version": "1.2.0",
            "_model_name": "LayoutModel",
            "_view_count": null,
            "_view_module": "@jupyter-widgets/base",
            "_view_module_version": "1.2.0",
            "_view_name": "LayoutView",
            "align_content": null,
            "align_items": null,
            "align_self": null,
            "border": null,
            "bottom": null,
            "display": null,
            "flex": null,
            "flex_flow": null,
            "grid_area": null,
            "grid_auto_columns": null,
            "grid_auto_flow": null,
            "grid_auto_rows": null,
            "grid_column": null,
            "grid_gap": null,
            "grid_row": null,
            "grid_template_areas": null,
            "grid_template_columns": null,
            "grid_template_rows": null,
            "height": null,
            "justify_content": null,
            "justify_items": null,
            "left": null,
            "margin": null,
            "max_height": null,
            "max_width": null,
            "min_height": null,
            "min_width": null,
            "object_fit": null,
            "object_position": null,
            "order": null,
            "overflow": null,
            "overflow_x": null,
            "overflow_y": null,
            "padding": null,
            "right": null,
            "top": null,
            "visibility": null,
            "width": null
          }
        },
        "2b657b5a0467436ba59d3d4975dc5fee": {
          "model_module": "@jupyter-widgets/controls",
          "model_name": "DescriptionStyleModel",
          "model_module_version": "1.5.0",
          "state": {
            "_model_module": "@jupyter-widgets/controls",
            "_model_module_version": "1.5.0",
            "_model_name": "DescriptionStyleModel",
            "_view_count": null,
            "_view_module": "@jupyter-widgets/base",
            "_view_module_version": "1.2.0",
            "_view_name": "StyleView",
            "description_width": ""
          }
        },
        "7dd1a3101d5140ba843e0cd1ff0df248": {
          "model_module": "@jupyter-widgets/base",
          "model_name": "LayoutModel",
          "model_module_version": "1.2.0",
          "state": {
            "_model_module": "@jupyter-widgets/base",
            "_model_module_version": "1.2.0",
            "_model_name": "LayoutModel",
            "_view_count": null,
            "_view_module": "@jupyter-widgets/base",
            "_view_module_version": "1.2.0",
            "_view_name": "LayoutView",
            "align_content": null,
            "align_items": null,
            "align_self": null,
            "border": null,
            "bottom": null,
            "display": null,
            "flex": null,
            "flex_flow": null,
            "grid_area": null,
            "grid_auto_columns": null,
            "grid_auto_flow": null,
            "grid_auto_rows": null,
            "grid_column": null,
            "grid_gap": null,
            "grid_row": null,
            "grid_template_areas": null,
            "grid_template_columns": null,
            "grid_template_rows": null,
            "height": null,
            "justify_content": null,
            "justify_items": null,
            "left": null,
            "margin": null,
            "max_height": null,
            "max_width": null,
            "min_height": null,
            "min_width": null,
            "object_fit": null,
            "object_position": null,
            "order": null,
            "overflow": null,
            "overflow_x": null,
            "overflow_y": null,
            "padding": null,
            "right": null,
            "top": null,
            "visibility": null,
            "width": null
          }
        },
        "eae832445113473588e669ebd1649395": {
          "model_module": "@jupyter-widgets/controls",
          "model_name": "ProgressStyleModel",
          "model_module_version": "1.5.0",
          "state": {
            "_model_module": "@jupyter-widgets/controls",
            "_model_module_version": "1.5.0",
            "_model_name": "ProgressStyleModel",
            "_view_count": null,
            "_view_module": "@jupyter-widgets/base",
            "_view_module_version": "1.2.0",
            "_view_name": "StyleView",
            "bar_color": null,
            "description_width": ""
          }
        },
        "b0dcc1ecf31640efa4635865289cf395": {
          "model_module": "@jupyter-widgets/base",
          "model_name": "LayoutModel",
          "model_module_version": "1.2.0",
          "state": {
            "_model_module": "@jupyter-widgets/base",
            "_model_module_version": "1.2.0",
            "_model_name": "LayoutModel",
            "_view_count": null,
            "_view_module": "@jupyter-widgets/base",
            "_view_module_version": "1.2.0",
            "_view_name": "LayoutView",
            "align_content": null,
            "align_items": null,
            "align_self": null,
            "border": null,
            "bottom": null,
            "display": null,
            "flex": null,
            "flex_flow": null,
            "grid_area": null,
            "grid_auto_columns": null,
            "grid_auto_flow": null,
            "grid_auto_rows": null,
            "grid_column": null,
            "grid_gap": null,
            "grid_row": null,
            "grid_template_areas": null,
            "grid_template_columns": null,
            "grid_template_rows": null,
            "height": null,
            "justify_content": null,
            "justify_items": null,
            "left": null,
            "margin": null,
            "max_height": null,
            "max_width": null,
            "min_height": null,
            "min_width": null,
            "object_fit": null,
            "object_position": null,
            "order": null,
            "overflow": null,
            "overflow_x": null,
            "overflow_y": null,
            "padding": null,
            "right": null,
            "top": null,
            "visibility": null,
            "width": null
          }
        },
        "2b1b5ee09eb74688951656f717113173": {
          "model_module": "@jupyter-widgets/controls",
          "model_name": "DescriptionStyleModel",
          "model_module_version": "1.5.0",
          "state": {
            "_model_module": "@jupyter-widgets/controls",
            "_model_module_version": "1.5.0",
            "_model_name": "DescriptionStyleModel",
            "_view_count": null,
            "_view_module": "@jupyter-widgets/base",
            "_view_module_version": "1.2.0",
            "_view_name": "StyleView",
            "description_width": ""
          }
        },
        "686619e8adf7481187848482ff19d360": {
          "model_module": "@jupyter-widgets/controls",
          "model_name": "HBoxModel",
          "model_module_version": "1.5.0",
          "state": {
            "_dom_classes": [],
            "_model_module": "@jupyter-widgets/controls",
            "_model_module_version": "1.5.0",
            "_model_name": "HBoxModel",
            "_view_count": null,
            "_view_module": "@jupyter-widgets/controls",
            "_view_module_version": "1.5.0",
            "_view_name": "HBoxView",
            "box_style": "",
            "children": [
              "IPY_MODEL_3f163fba40dd46d4832c797124c4c1f9",
              "IPY_MODEL_69f3ae0d9c2e48d1881552c21a13edb2",
              "IPY_MODEL_2712c2475cb24924a0225702fd3e4f76"
            ],
            "layout": "IPY_MODEL_3a6b424872f24c598edd3125b37186e6"
          }
        },
        "3f163fba40dd46d4832c797124c4c1f9": {
          "model_module": "@jupyter-widgets/controls",
          "model_name": "HTMLModel",
          "model_module_version": "1.5.0",
          "state": {
            "_dom_classes": [],
            "_model_module": "@jupyter-widgets/controls",
            "_model_module_version": "1.5.0",
            "_model_name": "HTMLModel",
            "_view_count": null,
            "_view_module": "@jupyter-widgets/controls",
            "_view_module_version": "1.5.0",
            "_view_name": "HTMLView",
            "description": "",
            "description_tooltip": null,
            "layout": "IPY_MODEL_deffc7cfd24d4020a571d222eb50d07a",
            "placeholder": "​",
            "style": "IPY_MODEL_080400b67ca34e5aae61a670eaac6e06",
            "value": "validation-00000-of-00001.parquet: 100%"
          }
        },
        "69f3ae0d9c2e48d1881552c21a13edb2": {
          "model_module": "@jupyter-widgets/controls",
          "model_name": "FloatProgressModel",
          "model_module_version": "1.5.0",
          "state": {
            "_dom_classes": [],
            "_model_module": "@jupyter-widgets/controls",
            "_model_module_version": "1.5.0",
            "_model_name": "FloatProgressModel",
            "_view_count": null,
            "_view_module": "@jupyter-widgets/controls",
            "_view_module_version": "1.5.0",
            "_view_name": "ProgressView",
            "bar_style": "success",
            "description": "",
            "description_tooltip": null,
            "layout": "IPY_MODEL_6984cab328dc41808e3a1a54144deda2",
            "max": 181304,
            "min": 0,
            "orientation": "horizontal",
            "style": "IPY_MODEL_f555667f38924ddbacab1021d4bbe10d",
            "value": 181304
          }
        },
        "2712c2475cb24924a0225702fd3e4f76": {
          "model_module": "@jupyter-widgets/controls",
          "model_name": "HTMLModel",
          "model_module_version": "1.5.0",
          "state": {
            "_dom_classes": [],
            "_model_module": "@jupyter-widgets/controls",
            "_model_module_version": "1.5.0",
            "_model_name": "HTMLModel",
            "_view_count": null,
            "_view_module": "@jupyter-widgets/controls",
            "_view_module_version": "1.5.0",
            "_view_name": "HTMLView",
            "description": "",
            "description_tooltip": null,
            "layout": "IPY_MODEL_1cb5db29028143aabd5bbdb525a9a236",
            "placeholder": "​",
            "style": "IPY_MODEL_3039160ada544caa933371061edb0a12",
            "value": " 181k/181k [00:00&lt;00:00, 3.55MB/s]"
          }
        },
        "3a6b424872f24c598edd3125b37186e6": {
          "model_module": "@jupyter-widgets/base",
          "model_name": "LayoutModel",
          "model_module_version": "1.2.0",
          "state": {
            "_model_module": "@jupyter-widgets/base",
            "_model_module_version": "1.2.0",
            "_model_name": "LayoutModel",
            "_view_count": null,
            "_view_module": "@jupyter-widgets/base",
            "_view_module_version": "1.2.0",
            "_view_name": "LayoutView",
            "align_content": null,
            "align_items": null,
            "align_self": null,
            "border": null,
            "bottom": null,
            "display": null,
            "flex": null,
            "flex_flow": null,
            "grid_area": null,
            "grid_auto_columns": null,
            "grid_auto_flow": null,
            "grid_auto_rows": null,
            "grid_column": null,
            "grid_gap": null,
            "grid_row": null,
            "grid_template_areas": null,
            "grid_template_columns": null,
            "grid_template_rows": null,
            "height": null,
            "justify_content": null,
            "justify_items": null,
            "left": null,
            "margin": null,
            "max_height": null,
            "max_width": null,
            "min_height": null,
            "min_width": null,
            "object_fit": null,
            "object_position": null,
            "order": null,
            "overflow": null,
            "overflow_x": null,
            "overflow_y": null,
            "padding": null,
            "right": null,
            "top": null,
            "visibility": null,
            "width": null
          }
        },
        "deffc7cfd24d4020a571d222eb50d07a": {
          "model_module": "@jupyter-widgets/base",
          "model_name": "LayoutModel",
          "model_module_version": "1.2.0",
          "state": {
            "_model_module": "@jupyter-widgets/base",
            "_model_module_version": "1.2.0",
            "_model_name": "LayoutModel",
            "_view_count": null,
            "_view_module": "@jupyter-widgets/base",
            "_view_module_version": "1.2.0",
            "_view_name": "LayoutView",
            "align_content": null,
            "align_items": null,
            "align_self": null,
            "border": null,
            "bottom": null,
            "display": null,
            "flex": null,
            "flex_flow": null,
            "grid_area": null,
            "grid_auto_columns": null,
            "grid_auto_flow": null,
            "grid_auto_rows": null,
            "grid_column": null,
            "grid_gap": null,
            "grid_row": null,
            "grid_template_areas": null,
            "grid_template_columns": null,
            "grid_template_rows": null,
            "height": null,
            "justify_content": null,
            "justify_items": null,
            "left": null,
            "margin": null,
            "max_height": null,
            "max_width": null,
            "min_height": null,
            "min_width": null,
            "object_fit": null,
            "object_position": null,
            "order": null,
            "overflow": null,
            "overflow_x": null,
            "overflow_y": null,
            "padding": null,
            "right": null,
            "top": null,
            "visibility": null,
            "width": null
          }
        },
        "080400b67ca34e5aae61a670eaac6e06": {
          "model_module": "@jupyter-widgets/controls",
          "model_name": "DescriptionStyleModel",
          "model_module_version": "1.5.0",
          "state": {
            "_model_module": "@jupyter-widgets/controls",
            "_model_module_version": "1.5.0",
            "_model_name": "DescriptionStyleModel",
            "_view_count": null,
            "_view_module": "@jupyter-widgets/base",
            "_view_module_version": "1.2.0",
            "_view_name": "StyleView",
            "description_width": ""
          }
        },
        "6984cab328dc41808e3a1a54144deda2": {
          "model_module": "@jupyter-widgets/base",
          "model_name": "LayoutModel",
          "model_module_version": "1.2.0",
          "state": {
            "_model_module": "@jupyter-widgets/base",
            "_model_module_version": "1.2.0",
            "_model_name": "LayoutModel",
            "_view_count": null,
            "_view_module": "@jupyter-widgets/base",
            "_view_module_version": "1.2.0",
            "_view_name": "LayoutView",
            "align_content": null,
            "align_items": null,
            "align_self": null,
            "border": null,
            "bottom": null,
            "display": null,
            "flex": null,
            "flex_flow": null,
            "grid_area": null,
            "grid_auto_columns": null,
            "grid_auto_flow": null,
            "grid_auto_rows": null,
            "grid_column": null,
            "grid_gap": null,
            "grid_row": null,
            "grid_template_areas": null,
            "grid_template_columns": null,
            "grid_template_rows": null,
            "height": null,
            "justify_content": null,
            "justify_items": null,
            "left": null,
            "margin": null,
            "max_height": null,
            "max_width": null,
            "min_height": null,
            "min_width": null,
            "object_fit": null,
            "object_position": null,
            "order": null,
            "overflow": null,
            "overflow_x": null,
            "overflow_y": null,
            "padding": null,
            "right": null,
            "top": null,
            "visibility": null,
            "width": null
          }
        },
        "f555667f38924ddbacab1021d4bbe10d": {
          "model_module": "@jupyter-widgets/controls",
          "model_name": "ProgressStyleModel",
          "model_module_version": "1.5.0",
          "state": {
            "_model_module": "@jupyter-widgets/controls",
            "_model_module_version": "1.5.0",
            "_model_name": "ProgressStyleModel",
            "_view_count": null,
            "_view_module": "@jupyter-widgets/base",
            "_view_module_version": "1.2.0",
            "_view_name": "StyleView",
            "bar_color": null,
            "description_width": ""
          }
        },
        "1cb5db29028143aabd5bbdb525a9a236": {
          "model_module": "@jupyter-widgets/base",
          "model_name": "LayoutModel",
          "model_module_version": "1.2.0",
          "state": {
            "_model_module": "@jupyter-widgets/base",
            "_model_module_version": "1.2.0",
            "_model_name": "LayoutModel",
            "_view_count": null,
            "_view_module": "@jupyter-widgets/base",
            "_view_module_version": "1.2.0",
            "_view_name": "LayoutView",
            "align_content": null,
            "align_items": null,
            "align_self": null,
            "border": null,
            "bottom": null,
            "display": null,
            "flex": null,
            "flex_flow": null,
            "grid_area": null,
            "grid_auto_columns": null,
            "grid_auto_flow": null,
            "grid_auto_rows": null,
            "grid_column": null,
            "grid_gap": null,
            "grid_row": null,
            "grid_template_areas": null,
            "grid_template_columns": null,
            "grid_template_rows": null,
            "height": null,
            "justify_content": null,
            "justify_items": null,
            "left": null,
            "margin": null,
            "max_height": null,
            "max_width": null,
            "min_height": null,
            "min_width": null,
            "object_fit": null,
            "object_position": null,
            "order": null,
            "overflow": null,
            "overflow_x": null,
            "overflow_y": null,
            "padding": null,
            "right": null,
            "top": null,
            "visibility": null,
            "width": null
          }
        },
        "3039160ada544caa933371061edb0a12": {
          "model_module": "@jupyter-widgets/controls",
          "model_name": "DescriptionStyleModel",
          "model_module_version": "1.5.0",
          "state": {
            "_model_module": "@jupyter-widgets/controls",
            "_model_module_version": "1.5.0",
            "_model_name": "DescriptionStyleModel",
            "_view_count": null,
            "_view_module": "@jupyter-widgets/base",
            "_view_module_version": "1.2.0",
            "_view_name": "StyleView",
            "description_width": ""
          }
        },
        "fc7b2025b3204884a8fe620812fa6a41": {
          "model_module": "@jupyter-widgets/controls",
          "model_name": "HBoxModel",
          "model_module_version": "1.5.0",
          "state": {
            "_dom_classes": [],
            "_model_module": "@jupyter-widgets/controls",
            "_model_module_version": "1.5.0",
            "_model_name": "HBoxModel",
            "_view_count": null,
            "_view_module": "@jupyter-widgets/controls",
            "_view_module_version": "1.5.0",
            "_view_name": "HBoxView",
            "box_style": "",
            "children": [
              "IPY_MODEL_0919ee1a71204209979d9d3145e03a2d",
              "IPY_MODEL_d9d86c1903924e2a809180c714731eac",
              "IPY_MODEL_abe29472479e4966ae92baea69167d1c"
            ],
            "layout": "IPY_MODEL_14e92e31ed90427f942e2220ab831bab"
          }
        },
        "0919ee1a71204209979d9d3145e03a2d": {
          "model_module": "@jupyter-widgets/controls",
          "model_name": "HTMLModel",
          "model_module_version": "1.5.0",
          "state": {
            "_dom_classes": [],
            "_model_module": "@jupyter-widgets/controls",
            "_model_module_version": "1.5.0",
            "_model_name": "HTMLModel",
            "_view_count": null,
            "_view_module": "@jupyter-widgets/controls",
            "_view_module_version": "1.5.0",
            "_view_name": "HTMLView",
            "description": "",
            "description_tooltip": null,
            "layout": "IPY_MODEL_750f59adc3ca4b73999e10b5da77bd54",
            "placeholder": "​",
            "style": "IPY_MODEL_c7882898b45544ffadeb688e72215e7d",
            "value": "Generating train split: 100%"
          }
        },
        "d9d86c1903924e2a809180c714731eac": {
          "model_module": "@jupyter-widgets/controls",
          "model_name": "FloatProgressModel",
          "model_module_version": "1.5.0",
          "state": {
            "_dom_classes": [],
            "_model_module": "@jupyter-widgets/controls",
            "_model_module_version": "1.5.0",
            "_model_name": "FloatProgressModel",
            "_view_count": null,
            "_view_module": "@jupyter-widgets/controls",
            "_view_module_version": "1.5.0",
            "_view_name": "ProgressView",
            "bar_style": "success",
            "description": "",
            "description_tooltip": null,
            "layout": "IPY_MODEL_ae06fe9518414908b3bc37a9e6c7f853",
            "max": 133317,
            "min": 0,
            "orientation": "horizontal",
            "style": "IPY_MODEL_0b0194a1b08540329ba912431cc14f03",
            "value": 133317
          }
        },
        "abe29472479e4966ae92baea69167d1c": {
          "model_module": "@jupyter-widgets/controls",
          "model_name": "HTMLModel",
          "model_module_version": "1.5.0",
          "state": {
            "_dom_classes": [],
            "_model_module": "@jupyter-widgets/controls",
            "_model_module_version": "1.5.0",
            "_model_name": "HTMLModel",
            "_view_count": null,
            "_view_module": "@jupyter-widgets/controls",
            "_view_module_version": "1.5.0",
            "_view_name": "HTMLView",
            "description": "",
            "description_tooltip": null,
            "layout": "IPY_MODEL_238f35474120403e9af6657afac42170",
            "placeholder": "​",
            "style": "IPY_MODEL_bdbbb68f06d0475b96b05c60663aed7c",
            "value": " 133317/133317 [00:00&lt;00:00, 316186.48 examples/s]"
          }
        },
        "14e92e31ed90427f942e2220ab831bab": {
          "model_module": "@jupyter-widgets/base",
          "model_name": "LayoutModel",
          "model_module_version": "1.2.0",
          "state": {
            "_model_module": "@jupyter-widgets/base",
            "_model_module_version": "1.2.0",
            "_model_name": "LayoutModel",
            "_view_count": null,
            "_view_module": "@jupyter-widgets/base",
            "_view_module_version": "1.2.0",
            "_view_name": "LayoutView",
            "align_content": null,
            "align_items": null,
            "align_self": null,
            "border": null,
            "bottom": null,
            "display": null,
            "flex": null,
            "flex_flow": null,
            "grid_area": null,
            "grid_auto_columns": null,
            "grid_auto_flow": null,
            "grid_auto_rows": null,
            "grid_column": null,
            "grid_gap": null,
            "grid_row": null,
            "grid_template_areas": null,
            "grid_template_columns": null,
            "grid_template_rows": null,
            "height": null,
            "justify_content": null,
            "justify_items": null,
            "left": null,
            "margin": null,
            "max_height": null,
            "max_width": null,
            "min_height": null,
            "min_width": null,
            "object_fit": null,
            "object_position": null,
            "order": null,
            "overflow": null,
            "overflow_x": null,
            "overflow_y": null,
            "padding": null,
            "right": null,
            "top": null,
            "visibility": null,
            "width": null
          }
        },
        "750f59adc3ca4b73999e10b5da77bd54": {
          "model_module": "@jupyter-widgets/base",
          "model_name": "LayoutModel",
          "model_module_version": "1.2.0",
          "state": {
            "_model_module": "@jupyter-widgets/base",
            "_model_module_version": "1.2.0",
            "_model_name": "LayoutModel",
            "_view_count": null,
            "_view_module": "@jupyter-widgets/base",
            "_view_module_version": "1.2.0",
            "_view_name": "LayoutView",
            "align_content": null,
            "align_items": null,
            "align_self": null,
            "border": null,
            "bottom": null,
            "display": null,
            "flex": null,
            "flex_flow": null,
            "grid_area": null,
            "grid_auto_columns": null,
            "grid_auto_flow": null,
            "grid_auto_rows": null,
            "grid_column": null,
            "grid_gap": null,
            "grid_row": null,
            "grid_template_areas": null,
            "grid_template_columns": null,
            "grid_template_rows": null,
            "height": null,
            "justify_content": null,
            "justify_items": null,
            "left": null,
            "margin": null,
            "max_height": null,
            "max_width": null,
            "min_height": null,
            "min_width": null,
            "object_fit": null,
            "object_position": null,
            "order": null,
            "overflow": null,
            "overflow_x": null,
            "overflow_y": null,
            "padding": null,
            "right": null,
            "top": null,
            "visibility": null,
            "width": null
          }
        },
        "c7882898b45544ffadeb688e72215e7d": {
          "model_module": "@jupyter-widgets/controls",
          "model_name": "DescriptionStyleModel",
          "model_module_version": "1.5.0",
          "state": {
            "_model_module": "@jupyter-widgets/controls",
            "_model_module_version": "1.5.0",
            "_model_name": "DescriptionStyleModel",
            "_view_count": null,
            "_view_module": "@jupyter-widgets/base",
            "_view_module_version": "1.2.0",
            "_view_name": "StyleView",
            "description_width": ""
          }
        },
        "ae06fe9518414908b3bc37a9e6c7f853": {
          "model_module": "@jupyter-widgets/base",
          "model_name": "LayoutModel",
          "model_module_version": "1.2.0",
          "state": {
            "_model_module": "@jupyter-widgets/base",
            "_model_module_version": "1.2.0",
            "_model_name": "LayoutModel",
            "_view_count": null,
            "_view_module": "@jupyter-widgets/base",
            "_view_module_version": "1.2.0",
            "_view_name": "LayoutView",
            "align_content": null,
            "align_items": null,
            "align_self": null,
            "border": null,
            "bottom": null,
            "display": null,
            "flex": null,
            "flex_flow": null,
            "grid_area": null,
            "grid_auto_columns": null,
            "grid_auto_flow": null,
            "grid_auto_rows": null,
            "grid_column": null,
            "grid_gap": null,
            "grid_row": null,
            "grid_template_areas": null,
            "grid_template_columns": null,
            "grid_template_rows": null,
            "height": null,
            "justify_content": null,
            "justify_items": null,
            "left": null,
            "margin": null,
            "max_height": null,
            "max_width": null,
            "min_height": null,
            "min_width": null,
            "object_fit": null,
            "object_position": null,
            "order": null,
            "overflow": null,
            "overflow_x": null,
            "overflow_y": null,
            "padding": null,
            "right": null,
            "top": null,
            "visibility": null,
            "width": null
          }
        },
        "0b0194a1b08540329ba912431cc14f03": {
          "model_module": "@jupyter-widgets/controls",
          "model_name": "ProgressStyleModel",
          "model_module_version": "1.5.0",
          "state": {
            "_model_module": "@jupyter-widgets/controls",
            "_model_module_version": "1.5.0",
            "_model_name": "ProgressStyleModel",
            "_view_count": null,
            "_view_module": "@jupyter-widgets/base",
            "_view_module_version": "1.2.0",
            "_view_name": "StyleView",
            "bar_color": null,
            "description_width": ""
          }
        },
        "238f35474120403e9af6657afac42170": {
          "model_module": "@jupyter-widgets/base",
          "model_name": "LayoutModel",
          "model_module_version": "1.2.0",
          "state": {
            "_model_module": "@jupyter-widgets/base",
            "_model_module_version": "1.2.0",
            "_model_name": "LayoutModel",
            "_view_count": null,
            "_view_module": "@jupyter-widgets/base",
            "_view_module_version": "1.2.0",
            "_view_name": "LayoutView",
            "align_content": null,
            "align_items": null,
            "align_self": null,
            "border": null,
            "bottom": null,
            "display": null,
            "flex": null,
            "flex_flow": null,
            "grid_area": null,
            "grid_auto_columns": null,
            "grid_auto_flow": null,
            "grid_auto_rows": null,
            "grid_column": null,
            "grid_gap": null,
            "grid_row": null,
            "grid_template_areas": null,
            "grid_template_columns": null,
            "grid_template_rows": null,
            "height": null,
            "justify_content": null,
            "justify_items": null,
            "left": null,
            "margin": null,
            "max_height": null,
            "max_width": null,
            "min_height": null,
            "min_width": null,
            "object_fit": null,
            "object_position": null,
            "order": null,
            "overflow": null,
            "overflow_x": null,
            "overflow_y": null,
            "padding": null,
            "right": null,
            "top": null,
            "visibility": null,
            "width": null
          }
        },
        "bdbbb68f06d0475b96b05c60663aed7c": {
          "model_module": "@jupyter-widgets/controls",
          "model_name": "DescriptionStyleModel",
          "model_module_version": "1.5.0",
          "state": {
            "_model_module": "@jupyter-widgets/controls",
            "_model_module_version": "1.5.0",
            "_model_name": "DescriptionStyleModel",
            "_view_count": null,
            "_view_module": "@jupyter-widgets/base",
            "_view_module_version": "1.2.0",
            "_view_name": "StyleView",
            "description_width": ""
          }
        },
        "57d09039ed4749c9a4f790591045d1d0": {
          "model_module": "@jupyter-widgets/controls",
          "model_name": "HBoxModel",
          "model_module_version": "1.5.0",
          "state": {
            "_dom_classes": [],
            "_model_module": "@jupyter-widgets/controls",
            "_model_module_version": "1.5.0",
            "_model_name": "HBoxModel",
            "_view_count": null,
            "_view_module": "@jupyter-widgets/controls",
            "_view_module_version": "1.5.0",
            "_view_name": "HBoxView",
            "box_style": "",
            "children": [
              "IPY_MODEL_9ddb4b647df4433b8c2ae29626f9fb9f",
              "IPY_MODEL_3e94d0fc840b4381b03cbdb5e2236ea9",
              "IPY_MODEL_7a8ff3feebe54020ac0a143b5c2f2b9d"
            ],
            "layout": "IPY_MODEL_2d022a5062e44f99ae18e444a342aab0"
          }
        },
        "9ddb4b647df4433b8c2ae29626f9fb9f": {
          "model_module": "@jupyter-widgets/controls",
          "model_name": "HTMLModel",
          "model_module_version": "1.5.0",
          "state": {
            "_dom_classes": [],
            "_model_module": "@jupyter-widgets/controls",
            "_model_module_version": "1.5.0",
            "_model_name": "HTMLModel",
            "_view_count": null,
            "_view_module": "@jupyter-widgets/controls",
            "_view_module_version": "1.5.0",
            "_view_name": "HTMLView",
            "description": "",
            "description_tooltip": null,
            "layout": "IPY_MODEL_2e76937d192d42c0a48cc6f8f63e9578",
            "placeholder": "​",
            "style": "IPY_MODEL_0a73fe20edde450fba14e4acef5da136",
            "value": "Generating validation split: 100%"
          }
        },
        "3e94d0fc840b4381b03cbdb5e2236ea9": {
          "model_module": "@jupyter-widgets/controls",
          "model_name": "FloatProgressModel",
          "model_module_version": "1.5.0",
          "state": {
            "_dom_classes": [],
            "_model_module": "@jupyter-widgets/controls",
            "_model_module_version": "1.5.0",
            "_model_name": "FloatProgressModel",
            "_view_count": null,
            "_view_module": "@jupyter-widgets/controls",
            "_view_module_version": "1.5.0",
            "_view_name": "ProgressView",
            "bar_style": "success",
            "description": "",
            "description_tooltip": null,
            "layout": "IPY_MODEL_0a596df19ca846ada52e9e3795c016ee",
            "max": 1268,
            "min": 0,
            "orientation": "horizontal",
            "style": "IPY_MODEL_9cde3958c614423d83bfdcedc39a2e72",
            "value": 1268
          }
        },
        "7a8ff3feebe54020ac0a143b5c2f2b9d": {
          "model_module": "@jupyter-widgets/controls",
          "model_name": "HTMLModel",
          "model_module_version": "1.5.0",
          "state": {
            "_dom_classes": [],
            "_model_module": "@jupyter-widgets/controls",
            "_model_module_version": "1.5.0",
            "_model_name": "HTMLModel",
            "_view_count": null,
            "_view_module": "@jupyter-widgets/controls",
            "_view_module_version": "1.5.0",
            "_view_name": "HTMLView",
            "description": "",
            "description_tooltip": null,
            "layout": "IPY_MODEL_93baca29b74c4c85a457a9ce004efe2a",
            "placeholder": "​",
            "style": "IPY_MODEL_3ad7507e504848c09c341ed99c410201",
            "value": " 1268/1268 [00:00&lt;00:00, 27813.31 examples/s]"
          }
        },
        "2d022a5062e44f99ae18e444a342aab0": {
          "model_module": "@jupyter-widgets/base",
          "model_name": "LayoutModel",
          "model_module_version": "1.2.0",
          "state": {
            "_model_module": "@jupyter-widgets/base",
            "_model_module_version": "1.2.0",
            "_model_name": "LayoutModel",
            "_view_count": null,
            "_view_module": "@jupyter-widgets/base",
            "_view_module_version": "1.2.0",
            "_view_name": "LayoutView",
            "align_content": null,
            "align_items": null,
            "align_self": null,
            "border": null,
            "bottom": null,
            "display": null,
            "flex": null,
            "flex_flow": null,
            "grid_area": null,
            "grid_auto_columns": null,
            "grid_auto_flow": null,
            "grid_auto_rows": null,
            "grid_column": null,
            "grid_gap": null,
            "grid_row": null,
            "grid_template_areas": null,
            "grid_template_columns": null,
            "grid_template_rows": null,
            "height": null,
            "justify_content": null,
            "justify_items": null,
            "left": null,
            "margin": null,
            "max_height": null,
            "max_width": null,
            "min_height": null,
            "min_width": null,
            "object_fit": null,
            "object_position": null,
            "order": null,
            "overflow": null,
            "overflow_x": null,
            "overflow_y": null,
            "padding": null,
            "right": null,
            "top": null,
            "visibility": null,
            "width": null
          }
        },
        "2e76937d192d42c0a48cc6f8f63e9578": {
          "model_module": "@jupyter-widgets/base",
          "model_name": "LayoutModel",
          "model_module_version": "1.2.0",
          "state": {
            "_model_module": "@jupyter-widgets/base",
            "_model_module_version": "1.2.0",
            "_model_name": "LayoutModel",
            "_view_count": null,
            "_view_module": "@jupyter-widgets/base",
            "_view_module_version": "1.2.0",
            "_view_name": "LayoutView",
            "align_content": null,
            "align_items": null,
            "align_self": null,
            "border": null,
            "bottom": null,
            "display": null,
            "flex": null,
            "flex_flow": null,
            "grid_area": null,
            "grid_auto_columns": null,
            "grid_auto_flow": null,
            "grid_auto_rows": null,
            "grid_column": null,
            "grid_gap": null,
            "grid_row": null,
            "grid_template_areas": null,
            "grid_template_columns": null,
            "grid_template_rows": null,
            "height": null,
            "justify_content": null,
            "justify_items": null,
            "left": null,
            "margin": null,
            "max_height": null,
            "max_width": null,
            "min_height": null,
            "min_width": null,
            "object_fit": null,
            "object_position": null,
            "order": null,
            "overflow": null,
            "overflow_x": null,
            "overflow_y": null,
            "padding": null,
            "right": null,
            "top": null,
            "visibility": null,
            "width": null
          }
        },
        "0a73fe20edde450fba14e4acef5da136": {
          "model_module": "@jupyter-widgets/controls",
          "model_name": "DescriptionStyleModel",
          "model_module_version": "1.5.0",
          "state": {
            "_model_module": "@jupyter-widgets/controls",
            "_model_module_version": "1.5.0",
            "_model_name": "DescriptionStyleModel",
            "_view_count": null,
            "_view_module": "@jupyter-widgets/base",
            "_view_module_version": "1.2.0",
            "_view_name": "StyleView",
            "description_width": ""
          }
        },
        "0a596df19ca846ada52e9e3795c016ee": {
          "model_module": "@jupyter-widgets/base",
          "model_name": "LayoutModel",
          "model_module_version": "1.2.0",
          "state": {
            "_model_module": "@jupyter-widgets/base",
            "_model_module_version": "1.2.0",
            "_model_name": "LayoutModel",
            "_view_count": null,
            "_view_module": "@jupyter-widgets/base",
            "_view_module_version": "1.2.0",
            "_view_name": "LayoutView",
            "align_content": null,
            "align_items": null,
            "align_self": null,
            "border": null,
            "bottom": null,
            "display": null,
            "flex": null,
            "flex_flow": null,
            "grid_area": null,
            "grid_auto_columns": null,
            "grid_auto_flow": null,
            "grid_auto_rows": null,
            "grid_column": null,
            "grid_gap": null,
            "grid_row": null,
            "grid_template_areas": null,
            "grid_template_columns": null,
            "grid_template_rows": null,
            "height": null,
            "justify_content": null,
            "justify_items": null,
            "left": null,
            "margin": null,
            "max_height": null,
            "max_width": null,
            "min_height": null,
            "min_width": null,
            "object_fit": null,
            "object_position": null,
            "order": null,
            "overflow": null,
            "overflow_x": null,
            "overflow_y": null,
            "padding": null,
            "right": null,
            "top": null,
            "visibility": null,
            "width": null
          }
        },
        "9cde3958c614423d83bfdcedc39a2e72": {
          "model_module": "@jupyter-widgets/controls",
          "model_name": "ProgressStyleModel",
          "model_module_version": "1.5.0",
          "state": {
            "_model_module": "@jupyter-widgets/controls",
            "_model_module_version": "1.5.0",
            "_model_name": "ProgressStyleModel",
            "_view_count": null,
            "_view_module": "@jupyter-widgets/base",
            "_view_module_version": "1.2.0",
            "_view_name": "StyleView",
            "bar_color": null,
            "description_width": ""
          }
        },
        "93baca29b74c4c85a457a9ce004efe2a": {
          "model_module": "@jupyter-widgets/base",
          "model_name": "LayoutModel",
          "model_module_version": "1.2.0",
          "state": {
            "_model_module": "@jupyter-widgets/base",
            "_model_module_version": "1.2.0",
            "_model_name": "LayoutModel",
            "_view_count": null,
            "_view_module": "@jupyter-widgets/base",
            "_view_module_version": "1.2.0",
            "_view_name": "LayoutView",
            "align_content": null,
            "align_items": null,
            "align_self": null,
            "border": null,
            "bottom": null,
            "display": null,
            "flex": null,
            "flex_flow": null,
            "grid_area": null,
            "grid_auto_columns": null,
            "grid_auto_flow": null,
            "grid_auto_rows": null,
            "grid_column": null,
            "grid_gap": null,
            "grid_row": null,
            "grid_template_areas": null,
            "grid_template_columns": null,
            "grid_template_rows": null,
            "height": null,
            "justify_content": null,
            "justify_items": null,
            "left": null,
            "margin": null,
            "max_height": null,
            "max_width": null,
            "min_height": null,
            "min_width": null,
            "object_fit": null,
            "object_position": null,
            "order": null,
            "overflow": null,
            "overflow_x": null,
            "overflow_y": null,
            "padding": null,
            "right": null,
            "top": null,
            "visibility": null,
            "width": null
          }
        },
        "3ad7507e504848c09c341ed99c410201": {
          "model_module": "@jupyter-widgets/controls",
          "model_name": "DescriptionStyleModel",
          "model_module_version": "1.5.0",
          "state": {
            "_model_module": "@jupyter-widgets/controls",
            "_model_module_version": "1.5.0",
            "_model_name": "DescriptionStyleModel",
            "_view_count": null,
            "_view_module": "@jupyter-widgets/base",
            "_view_module_version": "1.2.0",
            "_view_name": "StyleView",
            "description_width": ""
          }
        },
        "2fa8e4b2a1ab466db82f47fcc1617997": {
          "model_module": "@jupyter-widgets/controls",
          "model_name": "HBoxModel",
          "model_module_version": "1.5.0",
          "state": {
            "_dom_classes": [],
            "_model_module": "@jupyter-widgets/controls",
            "_model_module_version": "1.5.0",
            "_model_name": "HBoxModel",
            "_view_count": null,
            "_view_module": "@jupyter-widgets/controls",
            "_view_module_version": "1.5.0",
            "_view_name": "HBoxView",
            "box_style": "",
            "children": [
              "IPY_MODEL_60cb1d8047be49428bd2f6935684cdf6",
              "IPY_MODEL_f61536f10b2d4f1b991ea278476f540e",
              "IPY_MODEL_c600a392cd524575a2202118fcaa7fc1"
            ],
            "layout": "IPY_MODEL_d9ed4037ed4a4893a60078b42379b74b"
          }
        },
        "60cb1d8047be49428bd2f6935684cdf6": {
          "model_module": "@jupyter-widgets/controls",
          "model_name": "HTMLModel",
          "model_module_version": "1.5.0",
          "state": {
            "_dom_classes": [],
            "_model_module": "@jupyter-widgets/controls",
            "_model_module_version": "1.5.0",
            "_model_name": "HTMLModel",
            "_view_count": null,
            "_view_module": "@jupyter-widgets/controls",
            "_view_module_version": "1.5.0",
            "_view_name": "HTMLView",
            "description": "",
            "description_tooltip": null,
            "layout": "IPY_MODEL_343d4581fa904545a08999cf3c6f1723",
            "placeholder": "​",
            "style": "IPY_MODEL_5ac5259e98db481bb700ff4855db6b98",
            "value": "Generating test split: 100%"
          }
        },
        "f61536f10b2d4f1b991ea278476f540e": {
          "model_module": "@jupyter-widgets/controls",
          "model_name": "FloatProgressModel",
          "model_module_version": "1.5.0",
          "state": {
            "_dom_classes": [],
            "_model_module": "@jupyter-widgets/controls",
            "_model_module_version": "1.5.0",
            "_model_name": "FloatProgressModel",
            "_view_count": null,
            "_view_module": "@jupyter-widgets/controls",
            "_view_module_version": "1.5.0",
            "_view_name": "ProgressView",
            "bar_style": "success",
            "description": "",
            "description_tooltip": null,
            "layout": "IPY_MODEL_e54d62c7b09948da8bb8f6d3e6c60920",
            "max": 1268,
            "min": 0,
            "orientation": "horizontal",
            "style": "IPY_MODEL_a84ee5bc07514d1790c7b68d054f55a1",
            "value": 1268
          }
        },
        "c600a392cd524575a2202118fcaa7fc1": {
          "model_module": "@jupyter-widgets/controls",
          "model_name": "HTMLModel",
          "model_module_version": "1.5.0",
          "state": {
            "_dom_classes": [],
            "_model_module": "@jupyter-widgets/controls",
            "_model_module_version": "1.5.0",
            "_model_name": "HTMLModel",
            "_view_count": null,
            "_view_module": "@jupyter-widgets/controls",
            "_view_module_version": "1.5.0",
            "_view_name": "HTMLView",
            "description": "",
            "description_tooltip": null,
            "layout": "IPY_MODEL_adca9f87ec784689925961bde32cf1b6",
            "placeholder": "​",
            "style": "IPY_MODEL_757bb2fabf0d4b1d9ab8229564204167",
            "value": " 1268/1268 [00:00&lt;00:00, 31223.23 examples/s]"
          }
        },
        "d9ed4037ed4a4893a60078b42379b74b": {
          "model_module": "@jupyter-widgets/base",
          "model_name": "LayoutModel",
          "model_module_version": "1.2.0",
          "state": {
            "_model_module": "@jupyter-widgets/base",
            "_model_module_version": "1.2.0",
            "_model_name": "LayoutModel",
            "_view_count": null,
            "_view_module": "@jupyter-widgets/base",
            "_view_module_version": "1.2.0",
            "_view_name": "LayoutView",
            "align_content": null,
            "align_items": null,
            "align_self": null,
            "border": null,
            "bottom": null,
            "display": null,
            "flex": null,
            "flex_flow": null,
            "grid_area": null,
            "grid_auto_columns": null,
            "grid_auto_flow": null,
            "grid_auto_rows": null,
            "grid_column": null,
            "grid_gap": null,
            "grid_row": null,
            "grid_template_areas": null,
            "grid_template_columns": null,
            "grid_template_rows": null,
            "height": null,
            "justify_content": null,
            "justify_items": null,
            "left": null,
            "margin": null,
            "max_height": null,
            "max_width": null,
            "min_height": null,
            "min_width": null,
            "object_fit": null,
            "object_position": null,
            "order": null,
            "overflow": null,
            "overflow_x": null,
            "overflow_y": null,
            "padding": null,
            "right": null,
            "top": null,
            "visibility": null,
            "width": null
          }
        },
        "343d4581fa904545a08999cf3c6f1723": {
          "model_module": "@jupyter-widgets/base",
          "model_name": "LayoutModel",
          "model_module_version": "1.2.0",
          "state": {
            "_model_module": "@jupyter-widgets/base",
            "_model_module_version": "1.2.0",
            "_model_name": "LayoutModel",
            "_view_count": null,
            "_view_module": "@jupyter-widgets/base",
            "_view_module_version": "1.2.0",
            "_view_name": "LayoutView",
            "align_content": null,
            "align_items": null,
            "align_self": null,
            "border": null,
            "bottom": null,
            "display": null,
            "flex": null,
            "flex_flow": null,
            "grid_area": null,
            "grid_auto_columns": null,
            "grid_auto_flow": null,
            "grid_auto_rows": null,
            "grid_column": null,
            "grid_gap": null,
            "grid_row": null,
            "grid_template_areas": null,
            "grid_template_columns": null,
            "grid_template_rows": null,
            "height": null,
            "justify_content": null,
            "justify_items": null,
            "left": null,
            "margin": null,
            "max_height": null,
            "max_width": null,
            "min_height": null,
            "min_width": null,
            "object_fit": null,
            "object_position": null,
            "order": null,
            "overflow": null,
            "overflow_x": null,
            "overflow_y": null,
            "padding": null,
            "right": null,
            "top": null,
            "visibility": null,
            "width": null
          }
        },
        "5ac5259e98db481bb700ff4855db6b98": {
          "model_module": "@jupyter-widgets/controls",
          "model_name": "DescriptionStyleModel",
          "model_module_version": "1.5.0",
          "state": {
            "_model_module": "@jupyter-widgets/controls",
            "_model_module_version": "1.5.0",
            "_model_name": "DescriptionStyleModel",
            "_view_count": null,
            "_view_module": "@jupyter-widgets/base",
            "_view_module_version": "1.2.0",
            "_view_name": "StyleView",
            "description_width": ""
          }
        },
        "e54d62c7b09948da8bb8f6d3e6c60920": {
          "model_module": "@jupyter-widgets/base",
          "model_name": "LayoutModel",
          "model_module_version": "1.2.0",
          "state": {
            "_model_module": "@jupyter-widgets/base",
            "_model_module_version": "1.2.0",
            "_model_name": "LayoutModel",
            "_view_count": null,
            "_view_module": "@jupyter-widgets/base",
            "_view_module_version": "1.2.0",
            "_view_name": "LayoutView",
            "align_content": null,
            "align_items": null,
            "align_self": null,
            "border": null,
            "bottom": null,
            "display": null,
            "flex": null,
            "flex_flow": null,
            "grid_area": null,
            "grid_auto_columns": null,
            "grid_auto_flow": null,
            "grid_auto_rows": null,
            "grid_column": null,
            "grid_gap": null,
            "grid_row": null,
            "grid_template_areas": null,
            "grid_template_columns": null,
            "grid_template_rows": null,
            "height": null,
            "justify_content": null,
            "justify_items": null,
            "left": null,
            "margin": null,
            "max_height": null,
            "max_width": null,
            "min_height": null,
            "min_width": null,
            "object_fit": null,
            "object_position": null,
            "order": null,
            "overflow": null,
            "overflow_x": null,
            "overflow_y": null,
            "padding": null,
            "right": null,
            "top": null,
            "visibility": null,
            "width": null
          }
        },
        "a84ee5bc07514d1790c7b68d054f55a1": {
          "model_module": "@jupyter-widgets/controls",
          "model_name": "ProgressStyleModel",
          "model_module_version": "1.5.0",
          "state": {
            "_model_module": "@jupyter-widgets/controls",
            "_model_module_version": "1.5.0",
            "_model_name": "ProgressStyleModel",
            "_view_count": null,
            "_view_module": "@jupyter-widgets/base",
            "_view_module_version": "1.2.0",
            "_view_name": "StyleView",
            "bar_color": null,
            "description_width": ""
          }
        },
        "adca9f87ec784689925961bde32cf1b6": {
          "model_module": "@jupyter-widgets/base",
          "model_name": "LayoutModel",
          "model_module_version": "1.2.0",
          "state": {
            "_model_module": "@jupyter-widgets/base",
            "_model_module_version": "1.2.0",
            "_model_name": "LayoutModel",
            "_view_count": null,
            "_view_module": "@jupyter-widgets/base",
            "_view_module_version": "1.2.0",
            "_view_name": "LayoutView",
            "align_content": null,
            "align_items": null,
            "align_self": null,
            "border": null,
            "bottom": null,
            "display": null,
            "flex": null,
            "flex_flow": null,
            "grid_area": null,
            "grid_auto_columns": null,
            "grid_auto_flow": null,
            "grid_auto_rows": null,
            "grid_column": null,
            "grid_gap": null,
            "grid_row": null,
            "grid_template_areas": null,
            "grid_template_columns": null,
            "grid_template_rows": null,
            "height": null,
            "justify_content": null,
            "justify_items": null,
            "left": null,
            "margin": null,
            "max_height": null,
            "max_width": null,
            "min_height": null,
            "min_width": null,
            "object_fit": null,
            "object_position": null,
            "order": null,
            "overflow": null,
            "overflow_x": null,
            "overflow_y": null,
            "padding": null,
            "right": null,
            "top": null,
            "visibility": null,
            "width": null
          }
        },
        "757bb2fabf0d4b1d9ab8229564204167": {
          "model_module": "@jupyter-widgets/controls",
          "model_name": "DescriptionStyleModel",
          "model_module_version": "1.5.0",
          "state": {
            "_model_module": "@jupyter-widgets/controls",
            "_model_module_version": "1.5.0",
            "_model_name": "DescriptionStyleModel",
            "_view_count": null,
            "_view_module": "@jupyter-widgets/base",
            "_view_module_version": "1.2.0",
            "_view_name": "StyleView",
            "description_width": ""
          }
        },
        "1f9fce241c014ce9afe29451c6b129cd": {
          "model_module": "@jupyter-widgets/controls",
          "model_name": "HBoxModel",
          "model_module_version": "1.5.0",
          "state": {
            "_dom_classes": [],
            "_model_module": "@jupyter-widgets/controls",
            "_model_module_version": "1.5.0",
            "_model_name": "HBoxModel",
            "_view_count": null,
            "_view_module": "@jupyter-widgets/controls",
            "_view_module_version": "1.5.0",
            "_view_name": "HBoxView",
            "box_style": "",
            "children": [
              "IPY_MODEL_3a51f2d4247b4acbafb87ede9cb5fd35",
              "IPY_MODEL_b23f7550aa314e7abaa8a022b271ce4b",
              "IPY_MODEL_f0116ad213d941f4b714b0e9d72c01d8"
            ],
            "layout": "IPY_MODEL_9418ba8bcddd480d80806625077ca080"
          }
        },
        "3a51f2d4247b4acbafb87ede9cb5fd35": {
          "model_module": "@jupyter-widgets/controls",
          "model_name": "HTMLModel",
          "model_module_version": "1.5.0",
          "state": {
            "_dom_classes": [],
            "_model_module": "@jupyter-widgets/controls",
            "_model_module_version": "1.5.0",
            "_model_name": "HTMLModel",
            "_view_count": null,
            "_view_module": "@jupyter-widgets/controls",
            "_view_module_version": "1.5.0",
            "_view_name": "HTMLView",
            "description": "",
            "description_tooltip": null,
            "layout": "IPY_MODEL_24bcede284b9474fad5eab693b98ddd3",
            "placeholder": "​",
            "style": "IPY_MODEL_1bc6083487944c38a9222832a900208a",
            "value": "Map: 100%"
          }
        },
        "b23f7550aa314e7abaa8a022b271ce4b": {
          "model_module": "@jupyter-widgets/controls",
          "model_name": "FloatProgressModel",
          "model_module_version": "1.5.0",
          "state": {
            "_dom_classes": [],
            "_model_module": "@jupyter-widgets/controls",
            "_model_module_version": "1.5.0",
            "_model_name": "FloatProgressModel",
            "_view_count": null,
            "_view_module": "@jupyter-widgets/controls",
            "_view_module_version": "1.5.0",
            "_view_name": "ProgressView",
            "bar_style": "success",
            "description": "",
            "description_tooltip": null,
            "layout": "IPY_MODEL_4ba1243b630d492eb657f020f4ae598e",
            "max": 133317,
            "min": 0,
            "orientation": "horizontal",
            "style": "IPY_MODEL_ce89313473b54ee99ef5ae28ff3936df",
            "value": 133317
          }
        },
        "f0116ad213d941f4b714b0e9d72c01d8": {
          "model_module": "@jupyter-widgets/controls",
          "model_name": "HTMLModel",
          "model_module_version": "1.5.0",
          "state": {
            "_dom_classes": [],
            "_model_module": "@jupyter-widgets/controls",
            "_model_module_version": "1.5.0",
            "_model_name": "HTMLModel",
            "_view_count": null,
            "_view_module": "@jupyter-widgets/controls",
            "_view_module_version": "1.5.0",
            "_view_name": "HTMLView",
            "description": "",
            "description_tooltip": null,
            "layout": "IPY_MODEL_d423c810e6ce431286d7a1206e3efbd9",
            "placeholder": "​",
            "style": "IPY_MODEL_100f17fcbf5247c7974955e3b79a76b3",
            "value": " 133317/133317 [00:28&lt;00:00, 6567.22 examples/s]"
          }
        },
        "9418ba8bcddd480d80806625077ca080": {
          "model_module": "@jupyter-widgets/base",
          "model_name": "LayoutModel",
          "model_module_version": "1.2.0",
          "state": {
            "_model_module": "@jupyter-widgets/base",
            "_model_module_version": "1.2.0",
            "_model_name": "LayoutModel",
            "_view_count": null,
            "_view_module": "@jupyter-widgets/base",
            "_view_module_version": "1.2.0",
            "_view_name": "LayoutView",
            "align_content": null,
            "align_items": null,
            "align_self": null,
            "border": null,
            "bottom": null,
            "display": null,
            "flex": null,
            "flex_flow": null,
            "grid_area": null,
            "grid_auto_columns": null,
            "grid_auto_flow": null,
            "grid_auto_rows": null,
            "grid_column": null,
            "grid_gap": null,
            "grid_row": null,
            "grid_template_areas": null,
            "grid_template_columns": null,
            "grid_template_rows": null,
            "height": null,
            "justify_content": null,
            "justify_items": null,
            "left": null,
            "margin": null,
            "max_height": null,
            "max_width": null,
            "min_height": null,
            "min_width": null,
            "object_fit": null,
            "object_position": null,
            "order": null,
            "overflow": null,
            "overflow_x": null,
            "overflow_y": null,
            "padding": null,
            "right": null,
            "top": null,
            "visibility": null,
            "width": null
          }
        },
        "24bcede284b9474fad5eab693b98ddd3": {
          "model_module": "@jupyter-widgets/base",
          "model_name": "LayoutModel",
          "model_module_version": "1.2.0",
          "state": {
            "_model_module": "@jupyter-widgets/base",
            "_model_module_version": "1.2.0",
            "_model_name": "LayoutModel",
            "_view_count": null,
            "_view_module": "@jupyter-widgets/base",
            "_view_module_version": "1.2.0",
            "_view_name": "LayoutView",
            "align_content": null,
            "align_items": null,
            "align_self": null,
            "border": null,
            "bottom": null,
            "display": null,
            "flex": null,
            "flex_flow": null,
            "grid_area": null,
            "grid_auto_columns": null,
            "grid_auto_flow": null,
            "grid_auto_rows": null,
            "grid_column": null,
            "grid_gap": null,
            "grid_row": null,
            "grid_template_areas": null,
            "grid_template_columns": null,
            "grid_template_rows": null,
            "height": null,
            "justify_content": null,
            "justify_items": null,
            "left": null,
            "margin": null,
            "max_height": null,
            "max_width": null,
            "min_height": null,
            "min_width": null,
            "object_fit": null,
            "object_position": null,
            "order": null,
            "overflow": null,
            "overflow_x": null,
            "overflow_y": null,
            "padding": null,
            "right": null,
            "top": null,
            "visibility": null,
            "width": null
          }
        },
        "1bc6083487944c38a9222832a900208a": {
          "model_module": "@jupyter-widgets/controls",
          "model_name": "DescriptionStyleModel",
          "model_module_version": "1.5.0",
          "state": {
            "_model_module": "@jupyter-widgets/controls",
            "_model_module_version": "1.5.0",
            "_model_name": "DescriptionStyleModel",
            "_view_count": null,
            "_view_module": "@jupyter-widgets/base",
            "_view_module_version": "1.2.0",
            "_view_name": "StyleView",
            "description_width": ""
          }
        },
        "4ba1243b630d492eb657f020f4ae598e": {
          "model_module": "@jupyter-widgets/base",
          "model_name": "LayoutModel",
          "model_module_version": "1.2.0",
          "state": {
            "_model_module": "@jupyter-widgets/base",
            "_model_module_version": "1.2.0",
            "_model_name": "LayoutModel",
            "_view_count": null,
            "_view_module": "@jupyter-widgets/base",
            "_view_module_version": "1.2.0",
            "_view_name": "LayoutView",
            "align_content": null,
            "align_items": null,
            "align_self": null,
            "border": null,
            "bottom": null,
            "display": null,
            "flex": null,
            "flex_flow": null,
            "grid_area": null,
            "grid_auto_columns": null,
            "grid_auto_flow": null,
            "grid_auto_rows": null,
            "grid_column": null,
            "grid_gap": null,
            "grid_row": null,
            "grid_template_areas": null,
            "grid_template_columns": null,
            "grid_template_rows": null,
            "height": null,
            "justify_content": null,
            "justify_items": null,
            "left": null,
            "margin": null,
            "max_height": null,
            "max_width": null,
            "min_height": null,
            "min_width": null,
            "object_fit": null,
            "object_position": null,
            "order": null,
            "overflow": null,
            "overflow_x": null,
            "overflow_y": null,
            "padding": null,
            "right": null,
            "top": null,
            "visibility": null,
            "width": null
          }
        },
        "ce89313473b54ee99ef5ae28ff3936df": {
          "model_module": "@jupyter-widgets/controls",
          "model_name": "ProgressStyleModel",
          "model_module_version": "1.5.0",
          "state": {
            "_model_module": "@jupyter-widgets/controls",
            "_model_module_version": "1.5.0",
            "_model_name": "ProgressStyleModel",
            "_view_count": null,
            "_view_module": "@jupyter-widgets/base",
            "_view_module_version": "1.2.0",
            "_view_name": "StyleView",
            "bar_color": null,
            "description_width": ""
          }
        },
        "d423c810e6ce431286d7a1206e3efbd9": {
          "model_module": "@jupyter-widgets/base",
          "model_name": "LayoutModel",
          "model_module_version": "1.2.0",
          "state": {
            "_model_module": "@jupyter-widgets/base",
            "_model_module_version": "1.2.0",
            "_model_name": "LayoutModel",
            "_view_count": null,
            "_view_module": "@jupyter-widgets/base",
            "_view_module_version": "1.2.0",
            "_view_name": "LayoutView",
            "align_content": null,
            "align_items": null,
            "align_self": null,
            "border": null,
            "bottom": null,
            "display": null,
            "flex": null,
            "flex_flow": null,
            "grid_area": null,
            "grid_auto_columns": null,
            "grid_auto_flow": null,
            "grid_auto_rows": null,
            "grid_column": null,
            "grid_gap": null,
            "grid_row": null,
            "grid_template_areas": null,
            "grid_template_columns": null,
            "grid_template_rows": null,
            "height": null,
            "justify_content": null,
            "justify_items": null,
            "left": null,
            "margin": null,
            "max_height": null,
            "max_width": null,
            "min_height": null,
            "min_width": null,
            "object_fit": null,
            "object_position": null,
            "order": null,
            "overflow": null,
            "overflow_x": null,
            "overflow_y": null,
            "padding": null,
            "right": null,
            "top": null,
            "visibility": null,
            "width": null
          }
        },
        "100f17fcbf5247c7974955e3b79a76b3": {
          "model_module": "@jupyter-widgets/controls",
          "model_name": "DescriptionStyleModel",
          "model_module_version": "1.5.0",
          "state": {
            "_model_module": "@jupyter-widgets/controls",
            "_model_module_version": "1.5.0",
            "_model_name": "DescriptionStyleModel",
            "_view_count": null,
            "_view_module": "@jupyter-widgets/base",
            "_view_module_version": "1.2.0",
            "_view_name": "StyleView",
            "description_width": ""
          }
        },
        "af2b6e8fd9e949cca899d11c99797144": {
          "model_module": "@jupyter-widgets/controls",
          "model_name": "HBoxModel",
          "model_module_version": "1.5.0",
          "state": {
            "_dom_classes": [],
            "_model_module": "@jupyter-widgets/controls",
            "_model_module_version": "1.5.0",
            "_model_name": "HBoxModel",
            "_view_count": null,
            "_view_module": "@jupyter-widgets/controls",
            "_view_module_version": "1.5.0",
            "_view_name": "HBoxView",
            "box_style": "",
            "children": [
              "IPY_MODEL_001ba99970e54d09b9d8a11e7a59690a",
              "IPY_MODEL_090c676366224059a2bca981e7bbf1c8",
              "IPY_MODEL_ca856df0eee64e74a4298026daaff1fd"
            ],
            "layout": "IPY_MODEL_016c630ad1d8433fafdd83410bb2202f"
          }
        },
        "001ba99970e54d09b9d8a11e7a59690a": {
          "model_module": "@jupyter-widgets/controls",
          "model_name": "HTMLModel",
          "model_module_version": "1.5.0",
          "state": {
            "_dom_classes": [],
            "_model_module": "@jupyter-widgets/controls",
            "_model_module_version": "1.5.0",
            "_model_name": "HTMLModel",
            "_view_count": null,
            "_view_module": "@jupyter-widgets/controls",
            "_view_module_version": "1.5.0",
            "_view_name": "HTMLView",
            "description": "",
            "description_tooltip": null,
            "layout": "IPY_MODEL_edb97b1dd2c44c089561c0f3fdac9e87",
            "placeholder": "​",
            "style": "IPY_MODEL_7fb2b4de08c14c87bb23907d6288d5dd",
            "value": "Map: 100%"
          }
        },
        "090c676366224059a2bca981e7bbf1c8": {
          "model_module": "@jupyter-widgets/controls",
          "model_name": "FloatProgressModel",
          "model_module_version": "1.5.0",
          "state": {
            "_dom_classes": [],
            "_model_module": "@jupyter-widgets/controls",
            "_model_module_version": "1.5.0",
            "_model_name": "FloatProgressModel",
            "_view_count": null,
            "_view_module": "@jupyter-widgets/controls",
            "_view_module_version": "1.5.0",
            "_view_name": "ProgressView",
            "bar_style": "success",
            "description": "",
            "description_tooltip": null,
            "layout": "IPY_MODEL_df21b1925ee547bb971e4e9b7463eddb",
            "max": 1268,
            "min": 0,
            "orientation": "horizontal",
            "style": "IPY_MODEL_660df10c551d401cbbff4d6700b77e4e",
            "value": 1268
          }
        },
        "ca856df0eee64e74a4298026daaff1fd": {
          "model_module": "@jupyter-widgets/controls",
          "model_name": "HTMLModel",
          "model_module_version": "1.5.0",
          "state": {
            "_dom_classes": [],
            "_model_module": "@jupyter-widgets/controls",
            "_model_module_version": "1.5.0",
            "_model_name": "HTMLModel",
            "_view_count": null,
            "_view_module": "@jupyter-widgets/controls",
            "_view_module_version": "1.5.0",
            "_view_name": "HTMLView",
            "description": "",
            "description_tooltip": null,
            "layout": "IPY_MODEL_5098e78b25344bf2b3d128393689eafe",
            "placeholder": "​",
            "style": "IPY_MODEL_1293b74a25d648cfb4ebba5a0774914e",
            "value": " 1268/1268 [00:00&lt;00:00, 3730.49 examples/s]"
          }
        },
        "016c630ad1d8433fafdd83410bb2202f": {
          "model_module": "@jupyter-widgets/base",
          "model_name": "LayoutModel",
          "model_module_version": "1.2.0",
          "state": {
            "_model_module": "@jupyter-widgets/base",
            "_model_module_version": "1.2.0",
            "_model_name": "LayoutModel",
            "_view_count": null,
            "_view_module": "@jupyter-widgets/base",
            "_view_module_version": "1.2.0",
            "_view_name": "LayoutView",
            "align_content": null,
            "align_items": null,
            "align_self": null,
            "border": null,
            "bottom": null,
            "display": null,
            "flex": null,
            "flex_flow": null,
            "grid_area": null,
            "grid_auto_columns": null,
            "grid_auto_flow": null,
            "grid_auto_rows": null,
            "grid_column": null,
            "grid_gap": null,
            "grid_row": null,
            "grid_template_areas": null,
            "grid_template_columns": null,
            "grid_template_rows": null,
            "height": null,
            "justify_content": null,
            "justify_items": null,
            "left": null,
            "margin": null,
            "max_height": null,
            "max_width": null,
            "min_height": null,
            "min_width": null,
            "object_fit": null,
            "object_position": null,
            "order": null,
            "overflow": null,
            "overflow_x": null,
            "overflow_y": null,
            "padding": null,
            "right": null,
            "top": null,
            "visibility": null,
            "width": null
          }
        },
        "edb97b1dd2c44c089561c0f3fdac9e87": {
          "model_module": "@jupyter-widgets/base",
          "model_name": "LayoutModel",
          "model_module_version": "1.2.0",
          "state": {
            "_model_module": "@jupyter-widgets/base",
            "_model_module_version": "1.2.0",
            "_model_name": "LayoutModel",
            "_view_count": null,
            "_view_module": "@jupyter-widgets/base",
            "_view_module_version": "1.2.0",
            "_view_name": "LayoutView",
            "align_content": null,
            "align_items": null,
            "align_self": null,
            "border": null,
            "bottom": null,
            "display": null,
            "flex": null,
            "flex_flow": null,
            "grid_area": null,
            "grid_auto_columns": null,
            "grid_auto_flow": null,
            "grid_auto_rows": null,
            "grid_column": null,
            "grid_gap": null,
            "grid_row": null,
            "grid_template_areas": null,
            "grid_template_columns": null,
            "grid_template_rows": null,
            "height": null,
            "justify_content": null,
            "justify_items": null,
            "left": null,
            "margin": null,
            "max_height": null,
            "max_width": null,
            "min_height": null,
            "min_width": null,
            "object_fit": null,
            "object_position": null,
            "order": null,
            "overflow": null,
            "overflow_x": null,
            "overflow_y": null,
            "padding": null,
            "right": null,
            "top": null,
            "visibility": null,
            "width": null
          }
        },
        "7fb2b4de08c14c87bb23907d6288d5dd": {
          "model_module": "@jupyter-widgets/controls",
          "model_name": "DescriptionStyleModel",
          "model_module_version": "1.5.0",
          "state": {
            "_model_module": "@jupyter-widgets/controls",
            "_model_module_version": "1.5.0",
            "_model_name": "DescriptionStyleModel",
            "_view_count": null,
            "_view_module": "@jupyter-widgets/base",
            "_view_module_version": "1.2.0",
            "_view_name": "StyleView",
            "description_width": ""
          }
        },
        "df21b1925ee547bb971e4e9b7463eddb": {
          "model_module": "@jupyter-widgets/base",
          "model_name": "LayoutModel",
          "model_module_version": "1.2.0",
          "state": {
            "_model_module": "@jupyter-widgets/base",
            "_model_module_version": "1.2.0",
            "_model_name": "LayoutModel",
            "_view_count": null,
            "_view_module": "@jupyter-widgets/base",
            "_view_module_version": "1.2.0",
            "_view_name": "LayoutView",
            "align_content": null,
            "align_items": null,
            "align_self": null,
            "border": null,
            "bottom": null,
            "display": null,
            "flex": null,
            "flex_flow": null,
            "grid_area": null,
            "grid_auto_columns": null,
            "grid_auto_flow": null,
            "grid_auto_rows": null,
            "grid_column": null,
            "grid_gap": null,
            "grid_row": null,
            "grid_template_areas": null,
            "grid_template_columns": null,
            "grid_template_rows": null,
            "height": null,
            "justify_content": null,
            "justify_items": null,
            "left": null,
            "margin": null,
            "max_height": null,
            "max_width": null,
            "min_height": null,
            "min_width": null,
            "object_fit": null,
            "object_position": null,
            "order": null,
            "overflow": null,
            "overflow_x": null,
            "overflow_y": null,
            "padding": null,
            "right": null,
            "top": null,
            "visibility": null,
            "width": null
          }
        },
        "660df10c551d401cbbff4d6700b77e4e": {
          "model_module": "@jupyter-widgets/controls",
          "model_name": "ProgressStyleModel",
          "model_module_version": "1.5.0",
          "state": {
            "_model_module": "@jupyter-widgets/controls",
            "_model_module_version": "1.5.0",
            "_model_name": "ProgressStyleModel",
            "_view_count": null,
            "_view_module": "@jupyter-widgets/base",
            "_view_module_version": "1.2.0",
            "_view_name": "StyleView",
            "bar_color": null,
            "description_width": ""
          }
        },
        "5098e78b25344bf2b3d128393689eafe": {
          "model_module": "@jupyter-widgets/base",
          "model_name": "LayoutModel",
          "model_module_version": "1.2.0",
          "state": {
            "_model_module": "@jupyter-widgets/base",
            "_model_module_version": "1.2.0",
            "_model_name": "LayoutModel",
            "_view_count": null,
            "_view_module": "@jupyter-widgets/base",
            "_view_module_version": "1.2.0",
            "_view_name": "LayoutView",
            "align_content": null,
            "align_items": null,
            "align_self": null,
            "border": null,
            "bottom": null,
            "display": null,
            "flex": null,
            "flex_flow": null,
            "grid_area": null,
            "grid_auto_columns": null,
            "grid_auto_flow": null,
            "grid_auto_rows": null,
            "grid_column": null,
            "grid_gap": null,
            "grid_row": null,
            "grid_template_areas": null,
            "grid_template_columns": null,
            "grid_template_rows": null,
            "height": null,
            "justify_content": null,
            "justify_items": null,
            "left": null,
            "margin": null,
            "max_height": null,
            "max_width": null,
            "min_height": null,
            "min_width": null,
            "object_fit": null,
            "object_position": null,
            "order": null,
            "overflow": null,
            "overflow_x": null,
            "overflow_y": null,
            "padding": null,
            "right": null,
            "top": null,
            "visibility": null,
            "width": null
          }
        },
        "1293b74a25d648cfb4ebba5a0774914e": {
          "model_module": "@jupyter-widgets/controls",
          "model_name": "DescriptionStyleModel",
          "model_module_version": "1.5.0",
          "state": {
            "_model_module": "@jupyter-widgets/controls",
            "_model_module_version": "1.5.0",
            "_model_name": "DescriptionStyleModel",
            "_view_count": null,
            "_view_module": "@jupyter-widgets/base",
            "_view_module_version": "1.2.0",
            "_view_name": "StyleView",
            "description_width": ""
          }
        },
        "55117a4fd48c46c0b3b880a999beb656": {
          "model_module": "@jupyter-widgets/controls",
          "model_name": "HBoxModel",
          "model_module_version": "1.5.0",
          "state": {
            "_dom_classes": [],
            "_model_module": "@jupyter-widgets/controls",
            "_model_module_version": "1.5.0",
            "_model_name": "HBoxModel",
            "_view_count": null,
            "_view_module": "@jupyter-widgets/controls",
            "_view_module_version": "1.5.0",
            "_view_name": "HBoxView",
            "box_style": "",
            "children": [
              "IPY_MODEL_feae93b957254d6289d29de94607292f",
              "IPY_MODEL_509e697370b54aaaad729867311c5320",
              "IPY_MODEL_3ce6225b67c448fe86fb053e3b60a656"
            ],
            "layout": "IPY_MODEL_07f7ea5dc4c84986bdac9e974d014298"
          }
        },
        "feae93b957254d6289d29de94607292f": {
          "model_module": "@jupyter-widgets/controls",
          "model_name": "HTMLModel",
          "model_module_version": "1.5.0",
          "state": {
            "_dom_classes": [],
            "_model_module": "@jupyter-widgets/controls",
            "_model_module_version": "1.5.0",
            "_model_name": "HTMLModel",
            "_view_count": null,
            "_view_module": "@jupyter-widgets/controls",
            "_view_module_version": "1.5.0",
            "_view_name": "HTMLView",
            "description": "",
            "description_tooltip": null,
            "layout": "IPY_MODEL_da159a06daf8470eb96a761d99161b33",
            "placeholder": "​",
            "style": "IPY_MODEL_a3f4f1d0139c4969b563d739e48e81b2",
            "value": "Map: 100%"
          }
        },
        "509e697370b54aaaad729867311c5320": {
          "model_module": "@jupyter-widgets/controls",
          "model_name": "FloatProgressModel",
          "model_module_version": "1.5.0",
          "state": {
            "_dom_classes": [],
            "_model_module": "@jupyter-widgets/controls",
            "_model_module_version": "1.5.0",
            "_model_name": "FloatProgressModel",
            "_view_count": null,
            "_view_module": "@jupyter-widgets/controls",
            "_view_module_version": "1.5.0",
            "_view_name": "ProgressView",
            "bar_style": "success",
            "description": "",
            "description_tooltip": null,
            "layout": "IPY_MODEL_04ecd1fe2ad24eb7a657a4644bda4dbb",
            "max": 1268,
            "min": 0,
            "orientation": "horizontal",
            "style": "IPY_MODEL_aaea4ae23baf47de9fffbb8958b2387c",
            "value": 1268
          }
        },
        "3ce6225b67c448fe86fb053e3b60a656": {
          "model_module": "@jupyter-widgets/controls",
          "model_name": "HTMLModel",
          "model_module_version": "1.5.0",
          "state": {
            "_dom_classes": [],
            "_model_module": "@jupyter-widgets/controls",
            "_model_module_version": "1.5.0",
            "_model_name": "HTMLModel",
            "_view_count": null,
            "_view_module": "@jupyter-widgets/controls",
            "_view_module_version": "1.5.0",
            "_view_name": "HTMLView",
            "description": "",
            "description_tooltip": null,
            "layout": "IPY_MODEL_e89881967f7f46599ec8cbcba0e94604",
            "placeholder": "​",
            "style": "IPY_MODEL_96cf4d09cd5c41d2aa2403a80e8a01ce",
            "value": " 1268/1268 [00:00&lt;00:00, 4573.18 examples/s]"
          }
        },
        "07f7ea5dc4c84986bdac9e974d014298": {
          "model_module": "@jupyter-widgets/base",
          "model_name": "LayoutModel",
          "model_module_version": "1.2.0",
          "state": {
            "_model_module": "@jupyter-widgets/base",
            "_model_module_version": "1.2.0",
            "_model_name": "LayoutModel",
            "_view_count": null,
            "_view_module": "@jupyter-widgets/base",
            "_view_module_version": "1.2.0",
            "_view_name": "LayoutView",
            "align_content": null,
            "align_items": null,
            "align_self": null,
            "border": null,
            "bottom": null,
            "display": null,
            "flex": null,
            "flex_flow": null,
            "grid_area": null,
            "grid_auto_columns": null,
            "grid_auto_flow": null,
            "grid_auto_rows": null,
            "grid_column": null,
            "grid_gap": null,
            "grid_row": null,
            "grid_template_areas": null,
            "grid_template_columns": null,
            "grid_template_rows": null,
            "height": null,
            "justify_content": null,
            "justify_items": null,
            "left": null,
            "margin": null,
            "max_height": null,
            "max_width": null,
            "min_height": null,
            "min_width": null,
            "object_fit": null,
            "object_position": null,
            "order": null,
            "overflow": null,
            "overflow_x": null,
            "overflow_y": null,
            "padding": null,
            "right": null,
            "top": null,
            "visibility": null,
            "width": null
          }
        },
        "da159a06daf8470eb96a761d99161b33": {
          "model_module": "@jupyter-widgets/base",
          "model_name": "LayoutModel",
          "model_module_version": "1.2.0",
          "state": {
            "_model_module": "@jupyter-widgets/base",
            "_model_module_version": "1.2.0",
            "_model_name": "LayoutModel",
            "_view_count": null,
            "_view_module": "@jupyter-widgets/base",
            "_view_module_version": "1.2.0",
            "_view_name": "LayoutView",
            "align_content": null,
            "align_items": null,
            "align_self": null,
            "border": null,
            "bottom": null,
            "display": null,
            "flex": null,
            "flex_flow": null,
            "grid_area": null,
            "grid_auto_columns": null,
            "grid_auto_flow": null,
            "grid_auto_rows": null,
            "grid_column": null,
            "grid_gap": null,
            "grid_row": null,
            "grid_template_areas": null,
            "grid_template_columns": null,
            "grid_template_rows": null,
            "height": null,
            "justify_content": null,
            "justify_items": null,
            "left": null,
            "margin": null,
            "max_height": null,
            "max_width": null,
            "min_height": null,
            "min_width": null,
            "object_fit": null,
            "object_position": null,
            "order": null,
            "overflow": null,
            "overflow_x": null,
            "overflow_y": null,
            "padding": null,
            "right": null,
            "top": null,
            "visibility": null,
            "width": null
          }
        },
        "a3f4f1d0139c4969b563d739e48e81b2": {
          "model_module": "@jupyter-widgets/controls",
          "model_name": "DescriptionStyleModel",
          "model_module_version": "1.5.0",
          "state": {
            "_model_module": "@jupyter-widgets/controls",
            "_model_module_version": "1.5.0",
            "_model_name": "DescriptionStyleModel",
            "_view_count": null,
            "_view_module": "@jupyter-widgets/base",
            "_view_module_version": "1.2.0",
            "_view_name": "StyleView",
            "description_width": ""
          }
        },
        "04ecd1fe2ad24eb7a657a4644bda4dbb": {
          "model_module": "@jupyter-widgets/base",
          "model_name": "LayoutModel",
          "model_module_version": "1.2.0",
          "state": {
            "_model_module": "@jupyter-widgets/base",
            "_model_module_version": "1.2.0",
            "_model_name": "LayoutModel",
            "_view_count": null,
            "_view_module": "@jupyter-widgets/base",
            "_view_module_version": "1.2.0",
            "_view_name": "LayoutView",
            "align_content": null,
            "align_items": null,
            "align_self": null,
            "border": null,
            "bottom": null,
            "display": null,
            "flex": null,
            "flex_flow": null,
            "grid_area": null,
            "grid_auto_columns": null,
            "grid_auto_flow": null,
            "grid_auto_rows": null,
            "grid_column": null,
            "grid_gap": null,
            "grid_row": null,
            "grid_template_areas": null,
            "grid_template_columns": null,
            "grid_template_rows": null,
            "height": null,
            "justify_content": null,
            "justify_items": null,
            "left": null,
            "margin": null,
            "max_height": null,
            "max_width": null,
            "min_height": null,
            "min_width": null,
            "object_fit": null,
            "object_position": null,
            "order": null,
            "overflow": null,
            "overflow_x": null,
            "overflow_y": null,
            "padding": null,
            "right": null,
            "top": null,
            "visibility": null,
            "width": null
          }
        },
        "aaea4ae23baf47de9fffbb8958b2387c": {
          "model_module": "@jupyter-widgets/controls",
          "model_name": "ProgressStyleModel",
          "model_module_version": "1.5.0",
          "state": {
            "_model_module": "@jupyter-widgets/controls",
            "_model_module_version": "1.5.0",
            "_model_name": "ProgressStyleModel",
            "_view_count": null,
            "_view_module": "@jupyter-widgets/base",
            "_view_module_version": "1.2.0",
            "_view_name": "StyleView",
            "bar_color": null,
            "description_width": ""
          }
        },
        "e89881967f7f46599ec8cbcba0e94604": {
          "model_module": "@jupyter-widgets/base",
          "model_name": "LayoutModel",
          "model_module_version": "1.2.0",
          "state": {
            "_model_module": "@jupyter-widgets/base",
            "_model_module_version": "1.2.0",
            "_model_name": "LayoutModel",
            "_view_count": null,
            "_view_module": "@jupyter-widgets/base",
            "_view_module_version": "1.2.0",
            "_view_name": "LayoutView",
            "align_content": null,
            "align_items": null,
            "align_self": null,
            "border": null,
            "bottom": null,
            "display": null,
            "flex": null,
            "flex_flow": null,
            "grid_area": null,
            "grid_auto_columns": null,
            "grid_auto_flow": null,
            "grid_auto_rows": null,
            "grid_column": null,
            "grid_gap": null,
            "grid_row": null,
            "grid_template_areas": null,
            "grid_template_columns": null,
            "grid_template_rows": null,
            "height": null,
            "justify_content": null,
            "justify_items": null,
            "left": null,
            "margin": null,
            "max_height": null,
            "max_width": null,
            "min_height": null,
            "min_width": null,
            "object_fit": null,
            "object_position": null,
            "order": null,
            "overflow": null,
            "overflow_x": null,
            "overflow_y": null,
            "padding": null,
            "right": null,
            "top": null,
            "visibility": null,
            "width": null
          }
        },
        "96cf4d09cd5c41d2aa2403a80e8a01ce": {
          "model_module": "@jupyter-widgets/controls",
          "model_name": "DescriptionStyleModel",
          "model_module_version": "1.5.0",
          "state": {
            "_model_module": "@jupyter-widgets/controls",
            "_model_module_version": "1.5.0",
            "_model_name": "DescriptionStyleModel",
            "_view_count": null,
            "_view_module": "@jupyter-widgets/base",
            "_view_module_version": "1.2.0",
            "_view_name": "StyleView",
            "description_width": ""
          }
        }
      }
    },
    "kaggle": {
      "accelerator": "nvidiaTeslaT4",
      "dataSources": [],
      "dockerImageVersionId": 30919,
      "isInternetEnabled": true,
      "language": "python",
      "sourceType": "notebook",
      "isGpuEnabled": true
    }
  },
  "nbformat_minor": 0,
  "nbformat": 4,
  "cells": [
    {
      "cell_type": "markdown",
      "metadata": {
        "id": "view-in-github",
        "colab_type": "text"
      },
      "source": [
        "<a href=\"https://colab.research.google.com/github/linhlinhle997/neural-translation-en-vi/blob/develop/nt_transformer.ipynb\" target=\"_parent\"><img src=\"https://colab.research.google.com/assets/colab-badge.svg\" alt=\"Open In Colab\"/></a>"
      ]
    },
    {
      "cell_type": "code",
      "source": [
        "!pip install -q datasets sacrebleu"
      ],
      "metadata": {
        "colab": {
          "base_uri": "https://localhost:8080/"
        },
        "id": "OtufUtrwm1hy",
        "outputId": "aaec44ba-2760-4778-b4de-1b4a9af23099",
        "trusted": true,
        "execution": {
          "iopub.status.busy": "2025-03-04T17:49:42.439800Z",
          "iopub.execute_input": "2025-03-04T17:49:42.440029Z",
          "iopub.status.idle": "2025-03-04T17:49:47.428125Z",
          "shell.execute_reply.started": "2025-03-04T17:49:42.440009Z",
          "shell.execute_reply": "2025-03-04T17:49:47.427317Z"
        }
      },
      "outputs": [
        {
          "name": "stdout",
          "text": "\u001b[2K     \u001b[90m━━━━━━━━━━━━━━━━━━━━━━━━━━━━━━━━━━━━━━━━\u001b[0m \u001b[32m51.8/51.8 kB\u001b[0m \u001b[31m1.8 MB/s\u001b[0m eta \u001b[36m0:00:00\u001b[0m\n\u001b[2K   \u001b[90m━━━━━━━━━━━━━━━━━━━━━━━━━━━━━━━━━━━━━━━━\u001b[0m \u001b[32m104.1/104.1 kB\u001b[0m \u001b[31m3.8 MB/s\u001b[0m eta \u001b[36m0:00:00\u001b[0m\n\u001b[?25h",
          "output_type": "stream"
        }
      ],
      "execution_count": null
    },
    {
      "cell_type": "code",
      "source": [
        "import os\n",
        "from datasets import load_dataset\n",
        "import matplotlib.pyplot as plt\n",
        "from tqdm import tqdm\n",
        "\n",
        "import sacrebleu\n",
        "import torch\n",
        "import torch.nn as nn\n",
        "from tokenizers import Tokenizer, pre_tokenizers, trainers, models\n",
        "from transformers import (\n",
        "    PreTrainedTokenizerFast,\n",
        "    PreTrainedModel,\n",
        "    PretrainedConfig,\n",
        "    Trainer,\n",
        "    TrainingArguments,\n",
        "    AutoTokenizer\n",
        ")"
      ],
      "metadata": {
        "id": "gI1UQoOunjMl",
        "trusted": true,
        "execution": {
          "iopub.status.busy": "2025-03-04T17:49:47.428990Z",
          "iopub.execute_input": "2025-03-04T17:49:47.429253Z",
          "iopub.status.idle": "2025-03-04T17:50:08.626086Z",
          "shell.execute_reply.started": "2025-03-04T17:49:47.429197Z",
          "shell.execute_reply": "2025-03-04T17:50:08.625402Z"
        }
      },
      "outputs": [],
      "execution_count": null
    },
    {
      "cell_type": "code",
      "source": [
        "import warnings\n",
        "warnings.simplefilter(\"ignore\")\n",
        "warnings.filterwarnings(\"ignore\", category=UserWarning, module=\"torch.nn.parallel\")\n",
        "os.environ[\"PYTHONWARNINGS\"] = \"ignore\""
      ],
      "metadata": {
        "trusted": true,
        "execution": {
          "iopub.status.busy": "2025-03-04T17:50:08.626968Z",
          "iopub.execute_input": "2025-03-04T17:50:08.627548Z",
          "iopub.status.idle": "2025-03-04T17:50:08.631703Z",
          "shell.execute_reply.started": "2025-03-04T17:50:08.627522Z",
          "shell.execute_reply": "2025-03-04T17:50:08.630720Z"
        },
        "id": "Vi2jBc3npVYE"
      },
      "outputs": [],
      "execution_count": null
    },
    {
      "cell_type": "markdown",
      "source": [
        "## Data Preprocessing"
      ],
      "metadata": {
        "id": "SMpu84WhnlDl"
      }
    },
    {
      "cell_type": "code",
      "source": [
        "ds = load_dataset(\"thainq107/iwslt2015-en-vi\")"
      ],
      "metadata": {
        "colab": {
          "base_uri": "https://localhost:8080/",
          "height": 333,
          "referenced_widgets": [
            "5e8639b5298146d9b81dd6da05aed7e0",
            "54434135c2724921bcc5b381770c8f02",
            "174b9f3806be43979934d637759ca708",
            "95eed537207845269627d85b1db58e0d",
            "efd9fa240b9744ee84c65a5631206caa",
            "3bcf8cfd0c1d448d848ee755980c57d1",
            "35d6946e6b3446afb523caeac3768a89",
            "00806abc4f154993b2b73ce9531e5459",
            "efac7f708d224fd58e7f2f42b7b1fe16",
            "cfbcc1eb45b1466e9f963f1479335f90",
            "7e91702c07f84a0e9752a7895b02f10e",
            "738a330926c04305b4d6e0943009d48d",
            "4379abc482ad4c099bf316cc21b85378",
            "91c2051afc1d42d187b337907cb4a8e6",
            "1dff3de2b1184c588289350db7b3d559",
            "d13b951dcb1846bda43a0f35c40a8248",
            "b4ffefa093c0435d96cbab95a10facc1",
            "2b657b5a0467436ba59d3d4975dc5fee",
            "7dd1a3101d5140ba843e0cd1ff0df248",
            "eae832445113473588e669ebd1649395",
            "b0dcc1ecf31640efa4635865289cf395",
            "2b1b5ee09eb74688951656f717113173",
            "686619e8adf7481187848482ff19d360",
            "3f163fba40dd46d4832c797124c4c1f9",
            "69f3ae0d9c2e48d1881552c21a13edb2",
            "2712c2475cb24924a0225702fd3e4f76",
            "3a6b424872f24c598edd3125b37186e6",
            "deffc7cfd24d4020a571d222eb50d07a",
            "080400b67ca34e5aae61a670eaac6e06",
            "6984cab328dc41808e3a1a54144deda2",
            "f555667f38924ddbacab1021d4bbe10d",
            "1cb5db29028143aabd5bbdb525a9a236",
            "3039160ada544caa933371061edb0a12",
            "fc7b2025b3204884a8fe620812fa6a41",
            "0919ee1a71204209979d9d3145e03a2d",
            "d9d86c1903924e2a809180c714731eac",
            "abe29472479e4966ae92baea69167d1c",
            "14e92e31ed90427f942e2220ab831bab",
            "750f59adc3ca4b73999e10b5da77bd54",
            "c7882898b45544ffadeb688e72215e7d",
            "ae06fe9518414908b3bc37a9e6c7f853",
            "0b0194a1b08540329ba912431cc14f03",
            "238f35474120403e9af6657afac42170",
            "bdbbb68f06d0475b96b05c60663aed7c",
            "57d09039ed4749c9a4f790591045d1d0",
            "9ddb4b647df4433b8c2ae29626f9fb9f",
            "3e94d0fc840b4381b03cbdb5e2236ea9",
            "7a8ff3feebe54020ac0a143b5c2f2b9d",
            "2d022a5062e44f99ae18e444a342aab0",
            "2e76937d192d42c0a48cc6f8f63e9578",
            "0a73fe20edde450fba14e4acef5da136",
            "0a596df19ca846ada52e9e3795c016ee",
            "9cde3958c614423d83bfdcedc39a2e72",
            "93baca29b74c4c85a457a9ce004efe2a",
            "3ad7507e504848c09c341ed99c410201",
            "2fa8e4b2a1ab466db82f47fcc1617997",
            "60cb1d8047be49428bd2f6935684cdf6",
            "f61536f10b2d4f1b991ea278476f540e",
            "c600a392cd524575a2202118fcaa7fc1",
            "d9ed4037ed4a4893a60078b42379b74b",
            "343d4581fa904545a08999cf3c6f1723",
            "5ac5259e98db481bb700ff4855db6b98",
            "e54d62c7b09948da8bb8f6d3e6c60920",
            "a84ee5bc07514d1790c7b68d054f55a1",
            "adca9f87ec784689925961bde32cf1b6",
            "757bb2fabf0d4b1d9ab8229564204167",
            "f95a8d64a51f449792672db8992379b6",
            "c4361b3ccb9742ce9aadb7597c799cbe",
            "85caa363984b4cebaa75345bef676565",
            "a1892b989df7494db371e5ce1250c0b2",
            "3c2a6e80f6ea435680cbe9a233b54a7a",
            "6640e99ef3a3447ebc8fcef94f1eb890"
          ]
        },
        "id": "SOveK1JJnkFR",
        "outputId": "ffc7de08-e0f6-452f-c56a-6abd6e6d7d9c",
        "trusted": true,
        "execution": {
          "iopub.status.busy": "2025-03-04T17:50:08.634074Z",
          "iopub.execute_input": "2025-03-04T17:50:08.634326Z",
          "iopub.status.idle": "2025-03-04T17:50:15.479852Z",
          "shell.execute_reply.started": "2025-03-04T17:50:08.634295Z",
          "shell.execute_reply": "2025-03-04T17:50:15.479206Z"
        }
      },
      "outputs": [
        {
          "output_type": "display_data",
          "data": {
            "text/plain": "README.md:   0%|          | 0.00/522 [00:00<?, ?B/s]",
            "application/vnd.jupyter.widget-view+json": {
              "version_major": 2,
              "version_minor": 0,
              "model_id": "f95a8d64a51f449792672db8992379b6"
            }
          },
          "metadata": {}
        },
        {
          "output_type": "display_data",
          "data": {
            "text/plain": "train-00000-of-00001.parquet:   0%|          | 0.00/17.8M [00:00<?, ?B/s]",
            "application/vnd.jupyter.widget-view+json": {
              "version_major": 2,
              "version_minor": 0,
              "model_id": "c4361b3ccb9742ce9aadb7597c799cbe"
            }
          },
          "metadata": {}
        },
        {
          "output_type": "display_data",
          "data": {
            "text/plain": "validation-00000-of-00001.parquet:   0%|          | 0.00/181k [00:00<?, ?B/s]",
            "application/vnd.jupyter.widget-view+json": {
              "version_major": 2,
              "version_minor": 0,
              "model_id": "85caa363984b4cebaa75345bef676565"
            }
          },
          "metadata": {}
        },
        {
          "output_type": "display_data",
          "data": {
            "text/plain": "Generating train split:   0%|          | 0/133317 [00:00<?, ? examples/s]",
            "application/vnd.jupyter.widget-view+json": {
              "version_major": 2,
              "version_minor": 0,
              "model_id": "a1892b989df7494db371e5ce1250c0b2"
            }
          },
          "metadata": {}
        },
        {
          "output_type": "display_data",
          "data": {
            "text/plain": "Generating validation split:   0%|          | 0/1268 [00:00<?, ? examples/s]",
            "application/vnd.jupyter.widget-view+json": {
              "version_major": 2,
              "version_minor": 0,
              "model_id": "3c2a6e80f6ea435680cbe9a233b54a7a"
            }
          },
          "metadata": {}
        },
        {
          "output_type": "display_data",
          "data": {
            "text/plain": "Generating test split:   0%|          | 0/1268 [00:00<?, ? examples/s]",
            "application/vnd.jupyter.widget-view+json": {
              "version_major": 2,
              "version_minor": 0,
              "model_id": "6640e99ef3a3447ebc8fcef94f1eb890"
            }
          },
          "metadata": {}
        }
      ],
      "execution_count": null
    },
    {
      "cell_type": "code",
      "source": [
        "ds"
      ],
      "metadata": {
        "colab": {
          "base_uri": "https://localhost:8080/"
        },
        "id": "EJ2kjrFfnnzL",
        "outputId": "1354f4f2-be99-4f7d-a7a4-9aefd99ffcbb",
        "trusted": true,
        "execution": {
          "iopub.status.busy": "2025-03-04T17:50:15.481121Z",
          "iopub.execute_input": "2025-03-04T17:50:15.481379Z",
          "iopub.status.idle": "2025-03-04T17:50:15.486265Z",
          "shell.execute_reply.started": "2025-03-04T17:50:15.481357Z",
          "shell.execute_reply": "2025-03-04T17:50:15.485500Z"
        }
      },
      "outputs": [
        {
          "execution_count": 5,
          "output_type": "execute_result",
          "data": {
            "text/plain": "DatasetDict({\n    train: Dataset({\n        features: ['en', 'vi'],\n        num_rows: 133317\n    })\n    validation: Dataset({\n        features: ['en', 'vi'],\n        num_rows: 1268\n    })\n    test: Dataset({\n        features: ['en', 'vi'],\n        num_rows: 1268\n    })\n})"
          },
          "metadata": {}
        }
      ],
      "execution_count": null
    },
    {
      "cell_type": "code",
      "source": [
        "ds['train'][0]"
      ],
      "metadata": {
        "trusted": true,
        "execution": {
          "iopub.status.busy": "2025-03-04T17:50:15.487018Z",
          "iopub.execute_input": "2025-03-04T17:50:15.487294Z",
          "iopub.status.idle": "2025-03-04T17:50:15.503662Z",
          "shell.execute_reply.started": "2025-03-04T17:50:15.487274Z",
          "shell.execute_reply": "2025-03-04T17:50:15.503033Z"
        },
        "id": "YIcivNznpVYF",
        "outputId": "400dc3b2-6afc-4153-f5f0-4830967a7b80"
      },
      "outputs": [
        {
          "execution_count": 6,
          "output_type": "execute_result",
          "data": {
            "text/plain": "{'en': 'Rachel Pike : The science behind a climate headline',\n 'vi': 'Khoa học đằng sau một tiêu đề về khí hậu'}"
          },
          "metadata": {}
        }
      ],
      "execution_count": null
    },
    {
      "cell_type": "markdown",
      "source": [
        "Word-Based"
      ],
      "metadata": {
        "id": "6kI6SXtBnmvs"
      }
    },
    {
      "cell_type": "code",
      "source": [
        "tokenizer_en = Tokenizer(models.WordLevel(unk_token=\"<unk>\"))\n",
        "tokenizer_vi = Tokenizer(models.WordLevel(unk_token=\"<unk>\"))\n",
        "\n",
        "tokenizer_en.pre_tokenizer = pre_tokenizers.Whitespace()\n",
        "tokenizer_vi.pre_tokenizer = pre_tokenizers.Whitespace()\n",
        "\n",
        "trainer = trainers.WordLevelTrainer(\n",
        "    vocab_size=15000,\n",
        "    min_frequency=2,\n",
        "    special_tokens=[\"<pad>\", \"<unk>\", \"<bos>\", \"<eos>\"]\n",
        ")"
      ],
      "metadata": {
        "id": "LSvz4B3knqUX",
        "trusted": true,
        "execution": {
          "iopub.status.busy": "2025-03-04T17:50:15.504433Z",
          "iopub.execute_input": "2025-03-04T17:50:15.504726Z",
          "iopub.status.idle": "2025-03-04T17:50:15.526178Z",
          "shell.execute_reply.started": "2025-03-04T17:50:15.504699Z",
          "shell.execute_reply": "2025-03-04T17:50:15.525433Z"
        }
      },
      "outputs": [],
      "execution_count": null
    },
    {
      "cell_type": "markdown",
      "source": [
        "Trains Tokenizer"
      ],
      "metadata": {
        "id": "54vKG72rntCg"
      }
    },
    {
      "cell_type": "code",
      "source": [
        "tokenizer_en.train_from_iterator(ds[\"train\"][\"en\"], trainer)\n",
        "tokenizer_vi.train_from_iterator(ds[\"train\"][\"vi\"], trainer)"
      ],
      "metadata": {
        "id": "P1jcqn2anrjS",
        "trusted": true,
        "execution": {
          "iopub.status.busy": "2025-03-04T17:50:15.526865Z",
          "iopub.execute_input": "2025-03-04T17:50:15.527117Z",
          "iopub.status.idle": "2025-03-04T17:50:18.475972Z",
          "shell.execute_reply.started": "2025-03-04T17:50:15.527098Z",
          "shell.execute_reply": "2025-03-04T17:50:18.475042Z"
        }
      },
      "outputs": [],
      "execution_count": null
    },
    {
      "cell_type": "markdown",
      "source": [
        "Tokenizer"
      ],
      "metadata": {
        "id": "MwtM0hwSnuwZ"
      }
    },
    {
      "cell_type": "code",
      "source": [
        "tokenizer_en.save(\"tokenizer_en.json\")\n",
        "tokenizer_vi.save(\"tokenizer_vi.json\")"
      ],
      "metadata": {
        "id": "X9MQaZqKnvz4",
        "trusted": true,
        "execution": {
          "iopub.status.busy": "2025-03-04T17:50:18.476973Z",
          "iopub.execute_input": "2025-03-04T17:50:18.477222Z",
          "iopub.status.idle": "2025-03-04T17:50:18.485400Z",
          "shell.execute_reply.started": "2025-03-04T17:50:18.477201Z",
          "shell.execute_reply": "2025-03-04T17:50:18.484447Z"
        }
      },
      "outputs": [],
      "execution_count": null
    },
    {
      "cell_type": "code",
      "source": [
        "len(tokenizer_en.get_vocab()), len(tokenizer_vi.get_vocab())"
      ],
      "metadata": {
        "trusted": true,
        "execution": {
          "iopub.status.busy": "2025-03-04T17:50:18.486230Z",
          "iopub.execute_input": "2025-03-04T17:50:18.486545Z",
          "iopub.status.idle": "2025-03-04T17:50:18.538933Z",
          "shell.execute_reply.started": "2025-03-04T17:50:18.486519Z",
          "shell.execute_reply": "2025-03-04T17:50:18.538148Z"
        },
        "id": "YhqtjQu5pVYF",
        "outputId": "09af810b-3891-4402-e88e-f8b50e1c9da2"
      },
      "outputs": [
        {
          "execution_count": 10,
          "output_type": "execute_result",
          "data": {
            "text/plain": "(15000, 13684)"
          },
          "metadata": {}
        }
      ],
      "execution_count": null
    },
    {
      "cell_type": "code",
      "source": [
        "print(tokenizer_en.encode(\"how are you\"))"
      ],
      "metadata": {
        "trusted": true,
        "execution": {
          "iopub.status.busy": "2025-03-04T17:50:18.539802Z",
          "iopub.execute_input": "2025-03-04T17:50:18.540019Z",
          "iopub.status.idle": "2025-03-04T17:50:18.555790Z",
          "shell.execute_reply.started": "2025-03-04T17:50:18.540001Z",
          "shell.execute_reply": "2025-03-04T17:50:18.554950Z"
        },
        "id": "uIT7HxPypVYF",
        "outputId": "2640979a-4a41-40a3-dc3c-346069babd16"
      },
      "outputs": [
        {
          "name": "stdout",
          "text": "Encoding(num_tokens=3, attributes=[ids, type_ids, tokens, offsets, attention_mask, special_tokens_mask, overflowing])\n",
          "output_type": "stream"
        }
      ],
      "execution_count": null
    },
    {
      "cell_type": "code",
      "source": [
        "print(tokenizer_en.encode(\"how are you\").ids)\n",
        "print(tokenizer_vi.encode(\"bạn có khoẻ không\").ids)"
      ],
      "metadata": {
        "trusted": true,
        "execution": {
          "iopub.status.busy": "2025-03-04T17:50:18.556677Z",
          "iopub.execute_input": "2025-03-04T17:50:18.556954Z",
          "iopub.status.idle": "2025-03-04T17:50:18.571256Z",
          "shell.execute_reply.started": "2025-03-04T17:50:18.556926Z",
          "shell.execute_reply": "2025-03-04T17:50:18.570446Z"
        },
        "id": "SXyjHxHspVYF",
        "outputId": "51b13167-c3a3-495c-e656-d0665ff93667"
      },
      "outputs": [
        {
          "name": "stdout",
          "text": "[81, 27, 18]\n[18, 9, 596, 14]\n",
          "output_type": "stream"
        }
      ],
      "execution_count": null
    },
    {
      "cell_type": "markdown",
      "source": [
        "## Encoding"
      ],
      "metadata": {
        "id": "5blZpprbnzJ8"
      }
    },
    {
      "cell_type": "code",
      "source": [
        "tokenizer_en = PreTrainedTokenizerFast(\n",
        "    tokenizer_file=\"tokenizer_en.json\",\n",
        "    unk_token=\"<unk>\",\n",
        "    pad_token=\"<pad>\",\n",
        "    bos_token=\"<bos>\",\n",
        "    eos_token=\"<eos>\"\n",
        ")\n",
        "tokenizer_vi = PreTrainedTokenizerFast(\n",
        "    tokenizer_file=\"tokenizer_vi.json\",\n",
        "    unk_token=\"<unk>\",\n",
        "    pad_token=\"<pad>\",\n",
        "    bos_token=\"<bos>\",\n",
        "    eos_token=\"<eos>\"\n",
        ")"
      ],
      "metadata": {
        "id": "BZoh667Pn5re",
        "trusted": true,
        "execution": {
          "iopub.status.busy": "2025-03-04T17:50:18.574224Z",
          "iopub.execute_input": "2025-03-04T17:50:18.574456Z",
          "iopub.status.idle": "2025-03-04T17:50:18.610579Z",
          "shell.execute_reply.started": "2025-03-04T17:50:18.574428Z",
          "shell.execute_reply": "2025-03-04T17:50:18.609940Z"
        }
      },
      "outputs": [],
      "execution_count": null
    },
    {
      "cell_type": "code",
      "source": [
        "len(tokenizer_en), len(tokenizer_vi)"
      ],
      "metadata": {
        "trusted": true,
        "execution": {
          "iopub.status.busy": "2025-03-04T17:50:18.611977Z",
          "iopub.execute_input": "2025-03-04T17:50:18.612259Z",
          "iopub.status.idle": "2025-03-04T17:50:18.628151Z",
          "shell.execute_reply.started": "2025-03-04T17:50:18.612235Z",
          "shell.execute_reply": "2025-03-04T17:50:18.627544Z"
        },
        "id": "kRjPa-eUpVYG",
        "outputId": "979f5f23-5154-4364-bc6a-4b879f252e53"
      },
      "outputs": [
        {
          "execution_count": 14,
          "output_type": "execute_result",
          "data": {
            "text/plain": "(15000, 13684)"
          },
          "metadata": {}
        }
      ],
      "execution_count": null
    },
    {
      "cell_type": "code",
      "source": [
        "MAX_LEN = 75\n",
        "\n",
        "def preprocess_func(examples):\n",
        "    src_texts = examples[\"en\"]\n",
        "    tgt_texts = [\"<bos> \" + sent + \"<eos>\" for sent in examples[\"vi\"]]\n",
        "\n",
        "    src_encodings = tokenizer_en(\n",
        "        src_texts, padding=\"max_length\", truncation=True, max_length=MAX_LEN\n",
        "    )\n",
        "    tgt_encodings = tokenizer_vi(\n",
        "        tgt_texts, padding=\"max_length\", truncation=True, max_length=MAX_LEN\n",
        "    )\n",
        "\n",
        "    return {\n",
        "        \"input_ids\": src_encodings[\"input_ids\"],\n",
        "        \"labels\": tgt_encodings[\"input_ids\"],\n",
        "    }\n",
        "\n",
        "preprocessed_ds = ds.map(preprocess_func, batched=True)"
      ],
      "metadata": {
        "colab": {
          "base_uri": "https://localhost:8080/",
          "height": 113,
          "referenced_widgets": [
            "1f9fce241c014ce9afe29451c6b129cd",
            "3a51f2d4247b4acbafb87ede9cb5fd35",
            "b23f7550aa314e7abaa8a022b271ce4b",
            "f0116ad213d941f4b714b0e9d72c01d8",
            "9418ba8bcddd480d80806625077ca080",
            "24bcede284b9474fad5eab693b98ddd3",
            "1bc6083487944c38a9222832a900208a",
            "4ba1243b630d492eb657f020f4ae598e",
            "ce89313473b54ee99ef5ae28ff3936df",
            "d423c810e6ce431286d7a1206e3efbd9",
            "100f17fcbf5247c7974955e3b79a76b3",
            "af2b6e8fd9e949cca899d11c99797144",
            "001ba99970e54d09b9d8a11e7a59690a",
            "090c676366224059a2bca981e7bbf1c8",
            "ca856df0eee64e74a4298026daaff1fd",
            "016c630ad1d8433fafdd83410bb2202f",
            "edb97b1dd2c44c089561c0f3fdac9e87",
            "7fb2b4de08c14c87bb23907d6288d5dd",
            "df21b1925ee547bb971e4e9b7463eddb",
            "660df10c551d401cbbff4d6700b77e4e",
            "5098e78b25344bf2b3d128393689eafe",
            "1293b74a25d648cfb4ebba5a0774914e",
            "55117a4fd48c46c0b3b880a999beb656",
            "feae93b957254d6289d29de94607292f",
            "509e697370b54aaaad729867311c5320",
            "3ce6225b67c448fe86fb053e3b60a656",
            "07f7ea5dc4c84986bdac9e974d014298",
            "da159a06daf8470eb96a761d99161b33",
            "a3f4f1d0139c4969b563d739e48e81b2",
            "04ecd1fe2ad24eb7a657a4644bda4dbb",
            "aaea4ae23baf47de9fffbb8958b2387c",
            "e89881967f7f46599ec8cbcba0e94604",
            "96cf4d09cd5c41d2aa2403a80e8a01ce",
            "3acbab1cb5cf4801a442c4c309330093",
            "4fe40480ba2440ceb917622f14808eec",
            "7dbd1c68734447d0bad7175805a6a3c5"
          ]
        },
        "id": "fREDuYd9n6r0",
        "outputId": "5668370e-315c-40a6-e23c-b03ce6935c0a",
        "trusted": true,
        "execution": {
          "iopub.status.busy": "2025-03-04T17:51:20.223794Z",
          "iopub.execute_input": "2025-03-04T17:51:20.224120Z",
          "iopub.status.idle": "2025-03-04T17:51:34.163526Z",
          "shell.execute_reply.started": "2025-03-04T17:51:20.224091Z",
          "shell.execute_reply": "2025-03-04T17:51:34.162633Z"
        }
      },
      "outputs": [
        {
          "output_type": "display_data",
          "data": {
            "text/plain": "Map:   0%|          | 0/133317 [00:00<?, ? examples/s]",
            "application/vnd.jupyter.widget-view+json": {
              "version_major": 2,
              "version_minor": 0,
              "model_id": "3acbab1cb5cf4801a442c4c309330093"
            }
          },
          "metadata": {}
        },
        {
          "output_type": "display_data",
          "data": {
            "text/plain": "Map:   0%|          | 0/1268 [00:00<?, ? examples/s]",
            "application/vnd.jupyter.widget-view+json": {
              "version_major": 2,
              "version_minor": 0,
              "model_id": "4fe40480ba2440ceb917622f14808eec"
            }
          },
          "metadata": {}
        },
        {
          "output_type": "display_data",
          "data": {
            "text/plain": "Map:   0%|          | 0/1268 [00:00<?, ? examples/s]",
            "application/vnd.jupyter.widget-view+json": {
              "version_major": 2,
              "version_minor": 0,
              "model_id": "7dbd1c68734447d0bad7175805a6a3c5"
            }
          },
          "metadata": {}
        }
      ],
      "execution_count": null
    },
    {
      "cell_type": "code",
      "source": [
        "tokenizer_vi.unk_token_id, tokenizer_vi.pad_token_id, tokenizer_vi.bos_token_id, tokenizer_vi.eos_token_id"
      ],
      "metadata": {
        "trusted": true,
        "execution": {
          "iopub.status.busy": "2025-03-04T17:51:34.164745Z",
          "iopub.execute_input": "2025-03-04T17:51:34.165109Z",
          "iopub.status.idle": "2025-03-04T17:51:34.170375Z",
          "shell.execute_reply.started": "2025-03-04T17:51:34.165074Z",
          "shell.execute_reply": "2025-03-04T17:51:34.169551Z"
        },
        "id": "HcXX_pYGpVYG",
        "outputId": "6587e2f8-9aa6-473b-e0aa-a7a3a9f4b3ac"
      },
      "outputs": [
        {
          "execution_count": 23,
          "output_type": "execute_result",
          "data": {
            "text/plain": "(1, 0, 2, 3)"
          },
          "metadata": {}
        }
      ],
      "execution_count": null
    },
    {
      "cell_type": "code",
      "source": [
        "preprocessed_ds['train']"
      ],
      "metadata": {
        "trusted": true,
        "execution": {
          "iopub.status.busy": "2025-03-04T17:51:34.172094Z",
          "iopub.execute_input": "2025-03-04T17:51:34.172336Z",
          "iopub.status.idle": "2025-03-04T17:51:34.647224Z",
          "shell.execute_reply.started": "2025-03-04T17:51:34.172315Z",
          "shell.execute_reply": "2025-03-04T17:51:34.646509Z"
        },
        "id": "k-cUQM9IpVYG",
        "outputId": "d8f48654-63c2-4193-fac5-c982d0913639"
      },
      "outputs": [
        {
          "execution_count": 24,
          "output_type": "execute_result",
          "data": {
            "text/plain": "Dataset({\n    features: ['en', 'vi', 'input_ids', 'labels'],\n    num_rows: 133317\n})"
          },
          "metadata": {}
        }
      ],
      "execution_count": null
    },
    {
      "cell_type": "code",
      "source": [
        "print(preprocessed_ds['train'][0])"
      ],
      "metadata": {
        "trusted": true,
        "execution": {
          "iopub.status.busy": "2025-03-04T17:51:34.648224Z",
          "iopub.execute_input": "2025-03-04T17:51:34.648598Z",
          "iopub.status.idle": "2025-03-04T17:51:34.662973Z",
          "shell.execute_reply.started": "2025-03-04T17:51:34.648569Z",
          "shell.execute_reply": "2025-03-04T17:51:34.662207Z"
        },
        "id": "QLtwlI53pVYG",
        "outputId": "e6e98995-04db-42ec-81c8-d14a05de2dad"
      },
      "outputs": [
        {
          "name": "stdout",
          "text": "{'en': 'Rachel Pike : The science behind a climate headline', 'vi': 'Khoa học đằng sau một tiêu đề về khí hậu', 'input_ids': [6675, 1, 57, 60, 339, 604, 13, 744, 5643, 0, 0, 0, 0, 0, 0, 0, 0, 0, 0, 0, 0, 0, 0, 0, 0, 0, 0, 0, 0, 0, 0, 0, 0, 0, 0, 0, 0, 0, 0, 0, 0, 0, 0, 0, 0, 0, 0, 0, 0, 0, 0, 0, 0, 0, 0, 0, 0, 0, 0, 0, 0, 0, 0, 0, 0, 0, 0, 0, 0, 0, 0, 0, 0, 0, 0], 'labels': [2, 1960, 66, 1157, 131, 8, 376, 113, 38, 417, 735, 3, 0, 0, 0, 0, 0, 0, 0, 0, 0, 0, 0, 0, 0, 0, 0, 0, 0, 0, 0, 0, 0, 0, 0, 0, 0, 0, 0, 0, 0, 0, 0, 0, 0, 0, 0, 0, 0, 0, 0, 0, 0, 0, 0, 0, 0, 0, 0, 0, 0, 0, 0, 0, 0, 0, 0, 0, 0, 0, 0, 0, 0, 0, 0]}\n",
          "output_type": "stream"
        }
      ],
      "execution_count": null
    },
    {
      "cell_type": "markdown",
      "source": [
        "## Transformer Model"
      ],
      "metadata": {
        "id": "P_N-AT2Fn-J3"
      }
    },
    {
      "cell_type": "code",
      "source": [
        "def generate_square_subsequent_mask(sz, device):\n",
        "    # Create an upper triangular mask to prevent the model from seeing future tokens.\n",
        "    mask = (torch.triu(torch.ones((sz, sz), device=device)) == 1).transpose(0, 1)  # Upper triangular matrix\n",
        "    mask = mask.float().masked_fill(mask == 0, float('-inf')).masked_fill(mask == 1, float(0.0)) # Apply mask values\n",
        "    return mask\n",
        "\n",
        "\n",
        "def create_mask(src, tgt):\n",
        "    # Generate masks for source and target sequences to handle attention.\n",
        "    src_seq_len = src.shape[1]\n",
        "    tgt_seq_len = tgt.shape[1]\n",
        "    device = src.device\n",
        "\n",
        "    tgt_mask = generate_square_subsequent_mask(tgt_seq_len, device).to(torch.bool) # Prevents future token access\n",
        "    src_mask = torch.zeros((src_seq_len, src_seq_len),device=device).type(torch.bool) # Required by PyTorch\n",
        "    src_padding_mask = (src == 0) # Padding masks (PAD = 0)\n",
        "    tgt_padding_mask = (tgt == 0) # Padding masks (PAD = 0)\n",
        "    return src_mask, tgt_mask, src_padding_mask, tgt_padding_mask"
      ],
      "metadata": {
        "id": "NwjIcEEln7xV",
        "trusted": true,
        "execution": {
          "iopub.status.busy": "2025-03-04T17:51:34.663837Z",
          "iopub.execute_input": "2025-03-04T17:51:34.664125Z",
          "iopub.status.idle": "2025-03-04T17:51:34.679908Z",
          "shell.execute_reply.started": "2025-03-04T17:51:34.664095Z",
          "shell.execute_reply": "2025-03-04T17:51:34.679055Z"
        }
      },
      "outputs": [],
      "execution_count": null
    },
    {
      "cell_type": "code",
      "source": [
        "class Seq2SeqTransformerConfig(PretrainedConfig):\n",
        "    def __init__(\n",
        "        self,\n",
        "        vocab_size_src=10000,\n",
        "        vocab_size_tgt=10000,\n",
        "        max_seq_length=50,\n",
        "        d_model=256,\n",
        "        num_heads=8,\n",
        "        num_layers=2,\n",
        "        dropout=0.1,\n",
        "        **kwargs\n",
        "    ):\n",
        "        super().__init__(**kwargs)\n",
        "        self.vocab_size_src = vocab_size_src\n",
        "        self.vocab_size_tgt = vocab_size_tgt\n",
        "        self.max_seq_length = max_seq_length\n",
        "        self.d_model = d_model # Hidden layer dimension\n",
        "        self.num_heads = num_heads # Number of attention heads\n",
        "        self.num_layers = num_layers # Number of encoder & decoder layers\n",
        "        self.dropout = dropout\n",
        "\n",
        "\n",
        "class Seq2SeqTransformerModel(PreTrainedModel):\n",
        "    config_class = Seq2SeqTransformerConfig\n",
        "\n",
        "    def __init__(self, config):\n",
        "        super().__init__(config)\n",
        "\n",
        "        # Embeddings for source & target\n",
        "        self.embedding_src = nn.Embedding(config.vocab_size_src, config.d_model)\n",
        "        self.embedding_tgt = nn.Embedding(config.vocab_size_tgt, config.d_model)\n",
        "\n",
        "        # Positional embeddings for source & target\n",
        "        self.position_embedding_src = nn.Embedding(config.max_seq_length, config.d_model)\n",
        "        self.position_embedding_tgt = nn.Embedding(config.max_seq_length, config.d_model)\n",
        "\n",
        "        # Transformer model\n",
        "        self.transformer = nn.Transformer(\n",
        "            d_model=config.d_model,\n",
        "            nhead=config.num_heads,\n",
        "            num_encoder_layers=config.num_layers,\n",
        "            num_decoder_layers=config.num_layers,\n",
        "            dropout=config.dropout,\n",
        "            batch_first=True\n",
        "        )\n",
        "\n",
        "        # Output layer & loss function\n",
        "        self.generator = nn.Linear(config.d_model, config.vocab_size_tgt)\n",
        "        self.loss_fn = nn.CrossEntropyLoss(ignore_index=0)  # Ignore PAD token\n",
        "\n",
        "    def forward(self, input_ids, labels):\n",
        "        tgt_input = labels[:, :-1] # Shift target for teacher forcing\n",
        "        tgt_output = labels[:, 1:]\n",
        "\n",
        "        batch_size, seq_len_src = input_ids.shape\n",
        "        _, seq_len_tgt = tgt_input.shape\n",
        "\n",
        "        # Positional encoding\n",
        "        src_positions = torch.arange(seq_len_src, device=input_ids.device).unsqueeze(0)\n",
        "        tgt_positions = torch.arange(seq_len_tgt, device=labels.device).unsqueeze(0)\n",
        "\n",
        "        # Embedded inputs\n",
        "        src_embedded = self.embedding_src(input_ids) + self.position_embedding_src(src_positions)\n",
        "        tgt_embedded = self.embedding_tgt(tgt_input) + self.position_embedding_tgt(tgt_positions)\n",
        "\n",
        "        # Create masks\n",
        "        src_mask, tgt_mask, src_key_padding_mask, tgt_key_padding_mask = create_mask(input_ids, tgt_input)\n",
        "\n",
        "        # Transformer forward pass\n",
        "        outs = self.transformer(\n",
        "            src_embedded, tgt_embedded, src_mask, tgt_mask,\n",
        "            src_key_padding_mask=src_key_padding_mask,\n",
        "            tgt_key_padding_mask=tgt_key_padding_mask\n",
        "        )\n",
        "\n",
        "        # Compute loss\n",
        "        logits = self.generator(outs)\n",
        "        loss = self.loss_fn(logits.permute(0, 2, 1), tgt_output)\n",
        "\n",
        "        return {\"loss\": loss, \"logits\": logits}\n",
        "\n",
        "    def encode(self, src, src_mask):\n",
        "        # Encode source sequence\n",
        "        _, seq_len_src = src.shape\n",
        "        src_positions = torch.arange(seq_len_src, device=src.device).unsqueeze(0)\n",
        "        src_embedded = self.embedding_src(src) + self.position_embedding_src(src_positions)\n",
        "        return self.transformer.encoder(src_embedded, src_mask)\n",
        "\n",
        "    def decode(self, tgt, encoder_output, tgt_mask):\n",
        "         Decode target sequence\n",
        "        _, seq_len_tgt = tgt.shape\n",
        "        tgt_positions = torch.arange(seq_len_tgt, device=tgt.device).unsqueeze(0)\n",
        "        tgt_embedded = self.embedding_tgt(tgt) + self.position_embedding_tgt(tgt_positions)\n",
        "        return self.transformer.decoder(tgt_embedded, encoder_output, tgt_mask)"
      ],
      "metadata": {
        "id": "axPSL22qobV-",
        "trusted": true,
        "execution": {
          "iopub.status.busy": "2025-03-04T17:51:38.114665Z",
          "iopub.execute_input": "2025-03-04T17:51:38.114984Z",
          "iopub.status.idle": "2025-03-04T17:51:38.125270Z",
          "shell.execute_reply.started": "2025-03-04T17:51:38.114955Z",
          "shell.execute_reply": "2025-03-04T17:51:38.124539Z"
        }
      },
      "outputs": [],
      "execution_count": null
    },
    {
      "cell_type": "code",
      "source": [
        "config = Seq2SeqTransformerConfig(\n",
        "    vocab_size_src=len(tokenizer_en),\n",
        "    vocab_size_tgt=len(tokenizer_vi),\n",
        "    max_seq_length=75\n",
        ")\n",
        "model = Seq2SeqTransformerModel(config)"
      ],
      "metadata": {
        "id": "4Pje_cyCqf4w",
        "trusted": true,
        "execution": {
          "iopub.status.busy": "2025-03-04T17:51:38.626718Z",
          "iopub.execute_input": "2025-03-04T17:51:38.626930Z",
          "iopub.status.idle": "2025-03-04T17:51:38.829994Z",
          "shell.execute_reply.started": "2025-03-04T17:51:38.626912Z",
          "shell.execute_reply": "2025-03-04T17:51:38.829059Z"
        }
      },
      "outputs": [],
      "execution_count": null
    },
    {
      "cell_type": "code",
      "source": [
        "model"
      ],
      "metadata": {
        "trusted": true,
        "execution": {
          "iopub.status.busy": "2025-03-04T17:51:39.361422Z",
          "iopub.execute_input": "2025-03-04T17:51:39.361707Z",
          "iopub.status.idle": "2025-03-04T17:51:39.366954Z",
          "shell.execute_reply.started": "2025-03-04T17:51:39.361684Z",
          "shell.execute_reply": "2025-03-04T17:51:39.366215Z"
        },
        "id": "ajGDtmMbpVYH",
        "outputId": "c21e1287-2a7d-47bb-d20e-f20565a6bb7d"
      },
      "outputs": [
        {
          "execution_count": 30,
          "output_type": "execute_result",
          "data": {
            "text/plain": "Seq2SeqTransformerModel(\n  (embedding_src): Embedding(15000, 256)\n  (embedding_tgt): Embedding(13684, 256)\n  (position_embedding_src): Embedding(75, 256)\n  (position_embedding_tgt): Embedding(75, 256)\n  (transformer): Transformer(\n    (encoder): TransformerEncoder(\n      (layers): ModuleList(\n        (0-1): 2 x TransformerEncoderLayer(\n          (self_attn): MultiheadAttention(\n            (out_proj): NonDynamicallyQuantizableLinear(in_features=256, out_features=256, bias=True)\n          )\n          (linear1): Linear(in_features=256, out_features=2048, bias=True)\n          (dropout): Dropout(p=0.1, inplace=False)\n          (linear2): Linear(in_features=2048, out_features=256, bias=True)\n          (norm1): LayerNorm((256,), eps=1e-05, elementwise_affine=True)\n          (norm2): LayerNorm((256,), eps=1e-05, elementwise_affine=True)\n          (dropout1): Dropout(p=0.1, inplace=False)\n          (dropout2): Dropout(p=0.1, inplace=False)\n        )\n      )\n      (norm): LayerNorm((256,), eps=1e-05, elementwise_affine=True)\n    )\n    (decoder): TransformerDecoder(\n      (layers): ModuleList(\n        (0-1): 2 x TransformerDecoderLayer(\n          (self_attn): MultiheadAttention(\n            (out_proj): NonDynamicallyQuantizableLinear(in_features=256, out_features=256, bias=True)\n          )\n          (multihead_attn): MultiheadAttention(\n            (out_proj): NonDynamicallyQuantizableLinear(in_features=256, out_features=256, bias=True)\n          )\n          (linear1): Linear(in_features=256, out_features=2048, bias=True)\n          (dropout): Dropout(p=0.1, inplace=False)\n          (linear2): Linear(in_features=2048, out_features=256, bias=True)\n          (norm1): LayerNorm((256,), eps=1e-05, elementwise_affine=True)\n          (norm2): LayerNorm((256,), eps=1e-05, elementwise_affine=True)\n          (norm3): LayerNorm((256,), eps=1e-05, elementwise_affine=True)\n          (dropout1): Dropout(p=0.1, inplace=False)\n          (dropout2): Dropout(p=0.1, inplace=False)\n          (dropout3): Dropout(p=0.1, inplace=False)\n        )\n      )\n      (norm): LayerNorm((256,), eps=1e-05, elementwise_affine=True)\n    )\n  )\n  (generator): Linear(in_features=256, out_features=13684, bias=True)\n  (loss_fn): CrossEntropyLoss()\n)"
          },
          "metadata": {}
        }
      ],
      "execution_count": null
    },
    {
      "cell_type": "markdown",
      "source": [
        "Test model"
      ],
      "metadata": {
        "id": "rwyYh9bSq4D5"
      }
    },
    {
      "cell_type": "code",
      "source": [
        "input_ids = torch.tensor([preprocessed_ds['train'][0]['input_ids']])\n",
        "labels = torch.tensor([preprocessed_ds['train'][0]['labels']])"
      ],
      "metadata": {
        "id": "n5iq1zkfq2FG",
        "trusted": true,
        "execution": {
          "iopub.status.busy": "2025-03-04T17:51:41.757251Z",
          "iopub.execute_input": "2025-03-04T17:51:41.757566Z",
          "iopub.status.idle": "2025-03-04T17:51:41.762511Z",
          "shell.execute_reply.started": "2025-03-04T17:51:41.757540Z",
          "shell.execute_reply": "2025-03-04T17:51:41.761825Z"
        }
      },
      "outputs": [],
      "execution_count": null
    },
    {
      "cell_type": "code",
      "source": [
        "input_ids"
      ],
      "metadata": {
        "trusted": true,
        "execution": {
          "iopub.status.busy": "2025-03-04T17:51:41.912894Z",
          "iopub.execute_input": "2025-03-04T17:51:41.913096Z",
          "iopub.status.idle": "2025-03-04T17:51:41.929358Z",
          "shell.execute_reply.started": "2025-03-04T17:51:41.913077Z",
          "shell.execute_reply": "2025-03-04T17:51:41.928540Z"
        },
        "id": "V3qRbh4DpVYH",
        "outputId": "efd1d138-06f3-49a6-ca46-78923925fdda"
      },
      "outputs": [
        {
          "execution_count": 32,
          "output_type": "execute_result",
          "data": {
            "text/plain": "tensor([[6675,    1,   57,   60,  339,  604,   13,  744, 5643,    0,    0,    0,\n            0,    0,    0,    0,    0,    0,    0,    0,    0,    0,    0,    0,\n            0,    0,    0,    0,    0,    0,    0,    0,    0,    0,    0,    0,\n            0,    0,    0,    0,    0,    0,    0,    0,    0,    0,    0,    0,\n            0,    0,    0,    0,    0,    0,    0,    0,    0,    0,    0,    0,\n            0,    0,    0,    0,    0,    0,    0,    0,    0,    0,    0,    0,\n            0,    0,    0]])"
          },
          "metadata": {}
        }
      ],
      "execution_count": null
    },
    {
      "cell_type": "code",
      "source": [
        "labels"
      ],
      "metadata": {
        "trusted": true,
        "execution": {
          "iopub.status.busy": "2025-03-04T17:51:42.097938Z",
          "iopub.execute_input": "2025-03-04T17:51:42.098133Z",
          "iopub.status.idle": "2025-03-04T17:51:42.103346Z",
          "shell.execute_reply.started": "2025-03-04T17:51:42.098115Z",
          "shell.execute_reply": "2025-03-04T17:51:42.102631Z"
        },
        "id": "8wG4TvdepVYH",
        "outputId": "b2ba4267-ab23-4823-8e7a-12134557b005"
      },
      "outputs": [
        {
          "execution_count": 33,
          "output_type": "execute_result",
          "data": {
            "text/plain": "tensor([[   2, 1960,   66, 1157,  131,    8,  376,  113,   38,  417,  735,    3,\n            0,    0,    0,    0,    0,    0,    0,    0,    0,    0,    0,    0,\n            0,    0,    0,    0,    0,    0,    0,    0,    0,    0,    0,    0,\n            0,    0,    0,    0,    0,    0,    0,    0,    0,    0,    0,    0,\n            0,    0,    0,    0,    0,    0,    0,    0,    0,    0,    0,    0,\n            0,    0,    0,    0,    0,    0,    0,    0,    0,    0,    0,    0,\n            0,    0,    0]])"
          },
          "metadata": {}
        }
      ],
      "execution_count": null
    },
    {
      "cell_type": "code",
      "source": [
        "pred = model(input_ids, labels)\n",
        "pred"
      ],
      "metadata": {
        "trusted": true,
        "execution": {
          "iopub.status.busy": "2025-03-04T17:51:43.392797Z",
          "iopub.execute_input": "2025-03-04T17:51:43.393032Z",
          "iopub.status.idle": "2025-03-04T17:51:43.580722Z",
          "shell.execute_reply.started": "2025-03-04T17:51:43.393013Z",
          "shell.execute_reply": "2025-03-04T17:51:43.579781Z"
        },
        "id": "xJbtwJG2pVYH",
        "outputId": "b34b86d0-6ded-4b3a-ff72-3c0636a374bc"
      },
      "outputs": [
        {
          "execution_count": 34,
          "output_type": "execute_result",
          "data": {
            "text/plain": "{'loss': tensor(9.6530, grad_fn=<NllLoss2DBackward0>),\n 'logits': tensor([[[ 0.3495, -0.2818,  0.1786,  ..., -0.7058,  0.1305, -1.2205],\n          [-0.2961, -0.5281, -0.0144,  ...,  0.3663,  0.1412,  0.5039],\n          [-0.0143, -0.5832,  0.6912,  ...,  0.6935, -0.9150,  0.0257],\n          ...,\n          [-0.4990, -0.6688,  1.0047,  ...,  0.5314, -0.8367, -0.4483],\n          [-0.3394, -0.1699,  0.8653,  ...,  0.4656, -0.0164, -0.2122],\n          [ 0.0267, -0.6954,  0.9298,  ...,  0.1758, -0.2867,  0.1819]]],\n        grad_fn=<ViewBackward0>)}"
          },
          "metadata": {}
        }
      ],
      "execution_count": null
    },
    {
      "cell_type": "markdown",
      "source": [
        "## Training"
      ],
      "metadata": {
        "id": "DjAeP5aZq6PM"
      }
    },
    {
      "cell_type": "code",
      "source": [
        "training_args = TrainingArguments(\n",
        "    output_dir=\"./en-vi-mt\",\n",
        "    logging_dir=\"logs\",\n",
        "    eval_strategy=\"epoch\",\n",
        "    save_strategy=\"epoch\",\n",
        "    logging_strategy=\"steps\",  # Log by steps instead of epoch\n",
        "    logging_steps=10,  # Log loss every 10 steps\n",
        "    per_device_train_batch_size=32,\n",
        "    per_device_eval_batch_size=32,\n",
        "    num_train_epochs=15,\n",
        "    learning_rate=2e-5,\n",
        "    save_total_limit=1,\n",
        "    report_to=\"none\"\n",
        ")\n",
        "\n",
        "trainer = Trainer(\n",
        "    model=model,\n",
        "    args=training_args,\n",
        "    train_dataset=preprocessed_ds[\"train\"],\n",
        "    eval_dataset=preprocessed_ds[\"validation\"]\n",
        ")\n",
        "\n",
        "trainer.train()"
      ],
      "metadata": {
        "colab": {
          "base_uri": "https://localhost:8080/",
          "height": 580
        },
        "id": "Azl-6nIqq9YL",
        "outputId": "f332ccbb-7b7f-42fe-a007-82959a21da34",
        "trusted": true,
        "execution": {
          "iopub.status.busy": "2025-03-04T17:52:20.200819Z",
          "iopub.execute_input": "2025-03-04T17:52:20.201142Z",
          "iopub.status.idle": "2025-03-04T18:53:28.831201Z",
          "shell.execute_reply.started": "2025-03-04T17:52:20.201118Z",
          "shell.execute_reply": "2025-03-04T18:53:28.830510Z"
        }
      },
      "outputs": [
        {
          "output_type": "display_data",
          "data": {
            "text/plain": "<IPython.core.display.HTML object>",
            "text/html": "\n    <div>\n      \n      <progress value='31260' max='31260' style='width:300px; height:20px; vertical-align: middle;'></progress>\n      [31260/31260 1:01:06, Epoch 15/15]\n    </div>\n    <table border=\"1\" class=\"dataframe\">\n  <thead>\n <tr style=\"text-align: left;\">\n      <th>Epoch</th>\n      <th>Training Loss</th>\n      <th>Validation Loss</th>\n    </tr>\n  </thead>\n  <tbody>\n    <tr>\n      <td>1</td>\n      <td>5.489500</td>\n      <td>5.451352</td>\n    </tr>\n    <tr>\n      <td>2</td>\n      <td>5.038000</td>\n      <td>5.009047</td>\n    </tr>\n    <tr>\n      <td>3</td>\n      <td>4.706100</td>\n      <td>4.754123</td>\n    </tr>\n    <tr>\n      <td>4</td>\n      <td>4.615200</td>\n      <td>4.583409</td>\n    </tr>\n    <tr>\n      <td>5</td>\n      <td>4.480100</td>\n      <td>4.463354</td>\n    </tr>\n    <tr>\n      <td>6</td>\n      <td>4.337700</td>\n      <td>4.371575</td>\n    </tr>\n    <tr>\n      <td>7</td>\n      <td>4.311300</td>\n      <td>4.295552</td>\n    </tr>\n    <tr>\n      <td>8</td>\n      <td>4.257000</td>\n      <td>4.238587</td>\n    </tr>\n    <tr>\n      <td>9</td>\n      <td>4.160400</td>\n      <td>4.188950</td>\n    </tr>\n    <tr>\n      <td>10</td>\n      <td>4.164600</td>\n      <td>4.152390</td>\n    </tr>\n    <tr>\n      <td>11</td>\n      <td>4.094700</td>\n      <td>4.123690</td>\n    </tr>\n    <tr>\n      <td>12</td>\n      <td>4.097200</td>\n      <td>4.099634</td>\n    </tr>\n    <tr>\n      <td>13</td>\n      <td>4.073900</td>\n      <td>4.084408</td>\n    </tr>\n    <tr>\n      <td>14</td>\n      <td>4.102200</td>\n      <td>4.074154</td>\n    </tr>\n    <tr>\n      <td>15</td>\n      <td>4.099200</td>\n      <td>4.071690</td>\n    </tr>\n  </tbody>\n</table><p>"
          },
          "metadata": {}
        },
        {
          "execution_count": 35,
          "output_type": "execute_result",
          "data": {
            "text/plain": "TrainOutput(global_step=31260, training_loss=4.502006862930815, metrics={'train_runtime': 3667.9406, 'train_samples_per_second': 545.198, 'train_steps_per_second': 8.522, 'total_flos': 8373888073035000.0, 'train_loss': 4.502006862930815, 'epoch': 15.0})"
          },
          "metadata": {}
        }
      ],
      "execution_count": null
    },
    {
      "cell_type": "markdown",
      "source": [
        "Display charts"
      ],
      "metadata": {
        "id": "VzYiX8d3rKiV"
      }
    },
    {
      "cell_type": "code",
      "source": [
        "train_losses = [log[\"loss\"] for log in trainer.state.log_history if \"loss\" in log]\n",
        "steps = [log[\"step\"] for log in trainer.state.log_history if \"loss\" in log]\n",
        "\n",
        "plt.figure(figsize=(8, 5))\n",
        "plt.plot(steps, train_losses, label=\"Training Loss\", color=\"blue\")\n",
        "plt.xlabel(\"Steps\")\n",
        "plt.ylabel(\"Loss\")\n",
        "plt.title(\"Training Loss Over Time\")\n",
        "plt.legend()\n",
        "plt.grid()\n",
        "plt.show()"
      ],
      "metadata": {
        "id": "QF8WdjpurCTo",
        "colab": {
          "base_uri": "https://localhost:8080/",
          "height": 487
        },
        "outputId": "1cdd3471-35dc-48ad-b0ea-2623494f3bd7",
        "trusted": true,
        "execution": {
          "iopub.status.busy": "2025-03-04T18:53:28.832091Z",
          "iopub.execute_input": "2025-03-04T18:53:28.832336Z",
          "iopub.status.idle": "2025-03-04T18:53:29.105046Z",
          "shell.execute_reply.started": "2025-03-04T18:53:28.832302Z",
          "shell.execute_reply": "2025-03-04T18:53:29.104077Z"
        }
      },
      "outputs": [
        {
          "output_type": "display_data",
          "data": {
            "text/plain": "<Figure size 800x500 with 1 Axes>",
            "image/png": "[encoded data removed]"
          },
          "metadata": {}
        }
      ],
      "execution_count": null
    },
    {
      "cell_type": "markdown",
      "source": [
        "## Inference"
      ],
      "metadata": {
        "id": "gdDYYTVwrA2r"
      }
    },
    {
      "cell_type": "markdown",
      "source": [
        "Greedy search"
      ],
      "metadata": {
        "id": "lsn6oo5cpVYI"
      }
    },
    {
      "cell_type": "code",
      "source": [
        "def greedy_decode(model, src, src_mask, max_len, start_symbol, device=\"cpu\"):\n",
        "    src = src.to(device)\n",
        "    src_mask = src_mask.to(device)\n",
        "\n",
        "    memory = model.encode(src, src_mask) # Encode input sequence\n",
        "    ys = torch.ones(1, 1).fill_(start_symbol).type(torch.long).to(device) # Init target sequence\n",
        "\n",
        "    # Loop to generate tokens\n",
        "    for i in range(max_len-1):\n",
        "        memory = memory.to(device)\n",
        "        tgt_mask = (generate_square_subsequent_mask(ys.size(1), device).type(torch.bool)).to(device) # Create target mask\n",
        "\n",
        "        out = model.decode(ys, memory, tgt_mask) # Decode using current target sequence\n",
        "        prob = model.generator(out[:, -1, :]) # Get probabilities of next token\n",
        "        _, next_word = torch.max(prob, dim=1) # Select most probable word\n",
        "        next_word = next_word[-1].item() # Convert to int\n",
        "\n",
        "        ys = torch.cat([ys,torch.ones(1, 1).type_as(src.data).fill_(next_word)], dim=1)\n",
        "        if next_word == 3: # Stop if EOS tokene)\n",
        "            break\n",
        "    return ys\n",
        "\n",
        "\n",
        "def translate_greddy(model, src_sentence, device):\n",
        "    model.eval()\n",
        "    input_ids = tokenizer_en([src_sentence], return_tensors='pt')['input_ids'].to(device)\n",
        "    num_tokens = input_ids.shape[1]\n",
        "\n",
        "    src_mask = (torch.zeros(num_tokens, num_tokens)).type(torch.bool).to(device) #  Create mask\n",
        "\n",
        "    tgt_tokens = greedy_decode(\n",
        "        model,  input_ids, src_mask, max_len=num_tokens + 5, start_symbol=2, device=device\n",
        "    ) # Decode\n",
        "    return tokenizer_vi.decode(tgt_tokens.detach().cpu()[0])  # Convert tokens to text"
      ],
      "metadata": {
        "id": "-zUAF-GCUV1G",
        "trusted": true,
        "execution": {
          "iopub.status.busy": "2025-03-04T19:26:50.369573Z",
          "iopub.execute_input": "2025-03-04T19:26:50.369935Z",
          "iopub.status.idle": "2025-03-04T19:26:50.376844Z",
          "shell.execute_reply.started": "2025-03-04T19:26:50.369904Z",
          "shell.execute_reply": "2025-03-04T19:26:50.376024Z"
        }
      },
      "outputs": [],
      "execution_count": null
    },
    {
      "cell_type": "code",
      "source": [
        "translation = translate_greddy(model, \"I go to school\", model.device)\n",
        "print(translation)"
      ],
      "metadata": {
        "id": "Bb7EyAbWWNtx",
        "trusted": true
      },
      "outputs": [],
      "execution_count": null
    },
    {
      "cell_type": "markdown",
      "source": [
        "Beam search"
      ],
      "metadata": {
        "id": "KRlGYxT5pVYL"
      }
    },
    {
      "cell_type": "code",
      "source": [
        "def beam_decode(model, src, src_mask, max_len, start_symbol, beam_size, device=\"cpu\"):\n",
        "    model.eval()\n",
        "\n",
        "    memory = model.encode(src, src_mask) # Encode input\n",
        "    seq = torch.tensor([[start_symbol]], dtype=torch.long, device=device)  # Start sequence\n",
        "\n",
        "    for _ in range(max_len - 1):  # Generate tokens\n",
        "        num_tokens = seq.shape[1]  # Get the current sequence length\n",
        "\n",
        "        tgt_mask = torch.triu(torch.ones(num_tokens, num_tokens), diagonal=1).bool().to(device) # Create causal mask\n",
        "\n",
        "        out = model.decode(seq, memory, tgt_mask)  # Decode\n",
        "        out = out[:, -1, :] #  Get last token logits\n",
        "        probs = F.log_softmax(out, dim=-1)  # Compute log probabilities\n",
        "\n",
        "        next_token = torch.argmax(probs, dim=-1).unsqueeze(0) # Pick highest probability token\n",
        "        seq = torch.cat([seq, next_token], dim=1)\n",
        "\n",
        "        if next_token.item() == 3:  # Stop if EOS token\n",
        "            break\n",
        "\n",
        "    return seq\n",
        "\n",
        "\n",
        "def translate_beam(model, src_sentence, device, beam_size=5):\n",
        "    input_ids = tokenizer_en.encode(src_sentence, return_tensors=\"pt\").to(device) # Tokenize input\n",
        "    num_tokens = input_ids.shape[1]\n",
        "    src_mask = (torch.zeros(num_tokens, num_tokens)).type(torch.bool).to(device)  # Create mask\n",
        "\n",
        "    tgt_tokens = beam_decode(\n",
        "        model, input_ids, src_mask, max_len=num_tokens + 5, start_symbol=2, beam_size=beam_size, device=device\n",
        "    ) # Decode\n",
        "\n",
        "    return tokenizer_vi.decode(tgt_tokens.detach().cpu()[0])  # Convert tokens to text"
      ],
      "metadata": {
        "trusted": true,
        "execution": {
          "iopub.status.busy": "2025-03-04T19:15:39.203076Z",
          "iopub.execute_input": "2025-03-04T19:15:39.203374Z",
          "iopub.status.idle": "2025-03-04T19:15:39.210178Z",
          "shell.execute_reply.started": "2025-03-04T19:15:39.203350Z",
          "shell.execute_reply": "2025-03-04T19:15:39.209389Z"
        },
        "id": "ZNeXoLbZpVYL"
      },
      "outputs": [],
      "execution_count": null
    },
    {
      "cell_type": "code",
      "source": [
        "translation = translate_beam(model, \"I go to school\", model.device, beam_size=5)\n",
        "print(translation)"
      ],
      "metadata": {
        "trusted": true,
        "id": "cywkcRNOpVYL"
      },
      "outputs": [],
      "execution_count": null
    },
    {
      "cell_type": "markdown",
      "source": [
        "## Evaluate"
      ],
      "metadata": {
        "id": "4mFZiknVpVYL"
      }
    },
    {
      "cell_type": "markdown",
      "source": [
        "Greedy search"
      ],
      "metadata": {
        "id": "qn2KZWv7pVYL"
      }
    },
    {
      "cell_type": "code",
      "source": [
        "pred_sentences, tgt_sentences = [], []\n",
        "for sample in tqdm(ds['test']):\n",
        "    src_sentence = sample['en']\n",
        "    tgt_sentence = sample['vi']\n",
        "\n",
        "    pred_sentence = translate_greddy(model, src_sentence, device)\n",
        "    pred_sentences.append(pred_sentence)\n",
        "\n",
        "    tgt_sentences.append(tgt_sentence)\n",
        "\n",
        "bleu_score = sacrebleu.corpus_bleu(pred_sentences, [tgt_sentences], force=True)\n",
        "bleu_score"
      ],
      "metadata": {
        "id": "UoKRN21zSnPs",
        "trusted": true
      },
      "outputs": [],
      "execution_count": null
    },
    {
      "cell_type": "markdown",
      "source": [
        "Beam search"
      ],
      "metadata": {
        "id": "lqCWfKk4pVYL"
      }
    },
    {
      "cell_type": "code",
      "source": [
        "pred_sentences, tgt_sentences = [], []\n",
        "for sample in tqdm(ds['test']):\n",
        "    src_sentence = sample['en']\n",
        "    tgt_sentence = sample['vi']\n",
        "\n",
        "    pred_sentence = translate_beam(model, src_sentence, device)\n",
        "    pred_sentences.append(pred_sentence)\n",
        "\n",
        "    tgt_sentences.append(tgt_sentence)\n",
        "\n",
        "bleu_score = sacrebleu.corpus_bleu(pred_sentences, [tgt_sentences], force=True)\n",
        "bleu_score"
      ],
      "metadata": {
        "trusted": true,
        "id": "qxjqs4jcpVYL"
      },
      "outputs": [],
      "execution_count": null
    },
    {
      "cell_type": "code",
      "source": [
        "pred_sentences = ['tôi đang đi học']\n",
        "tgt_sentences = ['tôi đang đi tới trường']\n",
        "bleu_score = sacrebleu.corpus_bleu(\n",
        "    pred_sentences, [tgt_sentences], force=True\n",
        ")\n",
        "bleu_score"
      ],
      "metadata": {
        "trusted": true,
        "execution": {
          "iopub.status.busy": "2025-03-04T19:21:45.043363Z",
          "iopub.status.idle": "2025-03-04T19:21:45.043657Z",
          "shell.execute_reply": "2025-03-04T19:21:45.043547Z"
        },
        "id": "VFhOxB5LpVYL"
      },
      "outputs": [],
      "execution_count": null
    }
  ]
}